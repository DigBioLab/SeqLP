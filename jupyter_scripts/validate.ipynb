{
 "cells": [
  {
   "cell_type": "code",
   "execution_count": 1,
   "metadata": {},
   "outputs": [
    {
     "name": "stdout",
     "output_type": "stream",
     "text": [
      "Current Working Directory: c:\\Users\\nilsh\\my_projects\\SeqLP\\jupyter_scripts\n"
     ]
    }
   ],
   "source": [
    "import os\n",
    "import sys\n",
    "dir_project = os.path.dirname(os.getcwd())\n",
    "path = os.path.join(dir_project, 'src')\n",
    "if path not in sys.path:\n",
    "    sys.path.append(path)\n",
    "\n",
    "current_directory = os.getcwd()\n",
    "#os.chdir(os.path.join(dir_project, 'src'))\n",
    "print(\"Current Working Directory:\", os.getcwd())"
   ]
  },
  {
   "cell_type": "code",
   "execution_count": 8,
   "metadata": {},
   "outputs": [],
   "source": [
    "import pandas as pd\n",
    "from seqlp.visualize.supervised_ml import DataPipeline\n",
    "import glob"
   ]
  },
  {
   "cell_type": "code",
   "execution_count": 3,
   "metadata": {},
   "outputs": [
    {
     "name": "stderr",
     "output_type": "stream",
     "text": [
      "Some weights of EsmModel were not initialized from the model checkpoint at C:\\Users\\nilsh\\my_projects\\ExpoSeq\\models\\nanobody_full and are newly initialized: ['esm.pooler.dense.bias', 'esm.pooler.dense.weight']\n",
      "You should probably TRAIN this model on a down-stream task to be able to use it for predictions and inference.\n",
      "c:\\Users\\nilsh\\my_projects\\SeqLP\\src\\seqlp\\visualize\\supervised_ml.py:46: SettingWithCopyWarning: \n",
      "A value is trying to be set on a copy of a slice from a DataFrame.\n",
      "Try using .loc[row_indexer,col_indexer] = value instead\n",
      "\n",
      "See the caveats in the documentation: https://pandas.pydata.org/pandas-docs/stable/user_guide/indexing.html#returning-a-view-versus-a-copy\n",
      "  sequencing_report[['full_sequence', 'CDRPositions']] = sequencing_report.apply(ExtractData.calculate_cdr_positions, axis=1, result_type='expand')\n",
      "c:\\Users\\nilsh\\my_projects\\SeqLP\\src\\seqlp\\visualize\\supervised_ml.py:46: SettingWithCopyWarning: \n",
      "A value is trying to be set on a copy of a slice from a DataFrame.\n",
      "Try using .loc[row_indexer,col_indexer] = value instead\n",
      "\n",
      "See the caveats in the documentation: https://pandas.pydata.org/pandas-docs/stable/user_guide/indexing.html#returning-a-view-versus-a-copy\n",
      "  sequencing_report[['full_sequence', 'CDRPositions']] = sequencing_report.apply(ExtractData.calculate_cdr_positions, axis=1, result_type='expand')\n"
     ]
    },
    {
     "name": "stdout",
     "output_type": "stream",
     "text": [
      "Explained variance after reducing to 40 dimensions:0.9936172366142273\n"
     ]
    }
   ],
   "source": [
    "Data = DataPipeline(model = r\"C:\\Users\\nilsh\\my_projects\\ExpoSeq\\models\\nanobody_full\",\n",
    "             path_seq_report = r\"C:\\Users\\nilsh\\my_projects\\ExpoSeq\\my_experiments\\max_new\\sequencing_report.csv\",\n",
    "             no_sequences = 100,  # take basically all sequences\n",
    "             pca_components=40)\n"
   ]
  },
  {
   "cell_type": "code",
   "execution_count": 10,
   "metadata": {},
   "outputs": [
    {
     "name": "stdout",
     "output_type": "stream",
     "text": [
      "No. of sequences in report: 700\n"
     ]
    }
   ],
   "source": [
    "sequencing_report = Data.init_sequencing_report\n",
    "sequencing_report[\"v_gene\"] = sequencing_report['allVHitsWithScore'].str.split('*').str[0]\n",
    "experiments = sequencing_report[\"Experiment\"].unique().tolist()\n",
    "v_family = sequencing_report[\"v_gene\"].tolist()\n",
    "sequencing_report[\"full_seq\"] = Data.full_sequences\n",
    "print(f\"No. of sequences in report: {sequencing_report.shape[0]}\")"
   ]
  },
  {
   "cell_type": "code",
   "execution_count": 5,
   "metadata": {},
   "outputs": [
    {
     "name": "stdout",
     "output_type": "stream",
     "text": [
      "No. of training sequences: 3609808\n"
     ]
    }
   ],
   "source": [
    "training_data = pd.read_csv(r'c:\\Users\\nilsh\\OneDrive\\Desktop\\master_thesis\\train_model\\concatenatednanobody_full_train.csv.gz', compression='gzip')\n",
    "sequences = training_data.iloc[:, 0]\n",
    "sequences = sequences.str.replace(' ', '')\n",
    "print(f\"No. of training sequences: {training_data.shape[0]}\")\n"
   ]
  },
  {
   "cell_type": "code",
   "execution_count": 6,
   "metadata": {},
   "outputs": [
    {
     "name": "stdout",
     "output_type": "stream",
     "text": [
      "No. of sequences in report after filtering training sequences: 700\n"
     ]
    }
   ],
   "source": [
    "mask = sequencing_report['full_seq'].isin(sequences)\n",
    "\n",
    "# Step 4: Filter the DataFrame\n",
    "sequencing_report = sequencing_report[~mask]\n",
    "print(f\"No. of sequences in report after filtering training sequences: {sequencing_report.shape[0]}\")"
   ]
  },
  {
   "cell_type": "markdown",
   "metadata": {},
   "source": [
    "### Perplexity Analysis\n",
    "\n",
    "The goal is to find a metric which captures how decisive or confused the model is. We will use perplexity for this which is 2 ** Entropy.\n",
    "The highest entropy for this task is 20. That means that each amino acid per position can appear with equal probability which is very bad.\n",
    "\n",
    "Cons of this metric:\n",
    "- not good for final evaluation, since it just measures the model's confidence not its accuracy\n",
    "- A model with a lower perplexity can still be worse because it can just be very decisive but then in the clsutering would kinda fail to represent the sequences meaningfully.\n",
    "\n",
    "-> your model does not output logits, so it does not really make sense to do that"
   ]
  },
  {
   "cell_type": "code",
   "execution_count": null,
   "metadata": {},
   "outputs": [],
   "source": [
    "import matplotlib.pyplot as plt\n",
    "import numpy as np\n",
    "\n",
    "def plot_perplexity(perplexities):\n",
    "    mean_perplexity = np.mean(perplexities)\n",
    "    median_perplexity = np.median(perplexities)\n",
    "    std_dev = np.std(perplexities)\n",
    "\n",
    "    # Visualization\n",
    "    plt.figure(figsize=(10, 5))\n",
    "    plt.hist(perplexities, bins=30, alpha=0.7, color='blue', label='Perplexity')\n",
    "    plt.axvline(mean_perplexity, color='r', linestyle='dashed', linewidth=1, label=f'Mean: {mean_perplexity:.2f}')\n",
    "    plt.axvline(median_perplexity, color='g', linestyle='dashed', linewidth=1, label=f'Median: {median_perplexity:.2f}')\n",
    "    plt.title('Distribution of Perplexity Scores')\n",
    "    plt.xlabel('Perplexity')\n",
    "    plt.ylabel('Frequency')\n",
    "    plt.legend()\n",
    "    plt.show()"
   ]
  },
  {
   "cell_type": "code",
   "execution_count": null,
   "metadata": {},
   "outputs": [],
   "source": [
    "from seqlp.visualize.load_model import LoadModel\n",
    "\n",
    "NanobodyModel = LoadModel(r\"C:\\Users\\nilsh\\my_projects\\ExpoSeq\\models\\nanobody_full\")\n",
    "sequences = sequencing_report[\"full_seq\"].tolist()\n",
    "perplexities = []\n",
    "for sequence in sequences:\n",
    "    perplexity = NanobodyModel._get_perplexity(sequence)\n",
    "    perplexities.append(perplexity)\n",
    "perplexities = np.array(perplexities)\n",
    "\n"
   ]
  },
  {
   "cell_type": "markdown",
   "metadata": {},
   "source": [
    "## Ideas for metrics\n",
    "\n",
    "- google exponentiated cross entropy"
   ]
  },
  {
   "cell_type": "markdown",
   "metadata": {},
   "source": [
    "## Ideas for clustering\n",
    "\n",
    "- Show how model clusters nanobodies with binding data. This model should do that gradually while the others should have problems with that\n"
   ]
  },
  {
   "cell_type": "markdown",
   "metadata": {},
   "source": [
    "Prepare binding data:"
   ]
  },
  {
   "cell_type": "code",
   "execution_count": 10,
   "metadata": {},
   "outputs": [
    {
     "data": {
      "text/plain": [
       "['C:\\\\Users\\\\nilsh\\\\OneDrive\\\\Desktop\\\\master_thesis\\\\binding_data\\\\RE_ binding data from Discovery of broadly neutralizing nanobodies using designed consensus antigens\\\\Nanobody sequences\\\\Sequences\\\\MA_STX18_A11_M13rev-29-A01.fas',\n",
       " 'C:\\\\Users\\\\nilsh\\\\OneDrive\\\\Desktop\\\\master_thesis\\\\binding_data\\\\RE_ binding data from Discovery of broadly neutralizing nanobodies using designed consensus antigens\\\\Nanobody sequences\\\\Sequences\\\\MA_STX18_A12_M13rev-29-A02.fas',\n",
       " 'C:\\\\Users\\\\nilsh\\\\OneDrive\\\\Desktop\\\\master_thesis\\\\binding_data\\\\RE_ binding data from Discovery of broadly neutralizing nanobodies using designed consensus antigens\\\\Nanobody sequences\\\\Sequences\\\\MA_STX18_B06_M13rev-29-A03.fas',\n",
       " 'C:\\\\Users\\\\nilsh\\\\OneDrive\\\\Desktop\\\\master_thesis\\\\binding_data\\\\RE_ binding data from Discovery of broadly neutralizing nanobodies using designed consensus antigens\\\\Nanobody sequences\\\\Sequences\\\\MA_STX18_B07_M13rev-29-A04.fas',\n",
       " 'C:\\\\Users\\\\nilsh\\\\OneDrive\\\\Desktop\\\\master_thesis\\\\binding_data\\\\RE_ binding data from Discovery of broadly neutralizing nanobodies using designed consensus antigens\\\\Nanobody sequences\\\\Sequences\\\\MA_STX18_B10_M13rev-29-A05.fas',\n",
       " 'C:\\\\Users\\\\nilsh\\\\OneDrive\\\\Desktop\\\\master_thesis\\\\binding_data\\\\RE_ binding data from Discovery of broadly neutralizing nanobodies using designed consensus antigens\\\\Nanobody sequences\\\\Sequences\\\\MA_STX18_B11_M13rev-29-A06.fas',\n",
       " 'C:\\\\Users\\\\nilsh\\\\OneDrive\\\\Desktop\\\\master_thesis\\\\binding_data\\\\RE_ binding data from Discovery of broadly neutralizing nanobodies using designed consensus antigens\\\\Nanobody sequences\\\\Sequences\\\\MA_STX18_B12_M13rev-29-A07.fas',\n",
       " 'C:\\\\Users\\\\nilsh\\\\OneDrive\\\\Desktop\\\\master_thesis\\\\binding_data\\\\RE_ binding data from Discovery of broadly neutralizing nanobodies using designed consensus antigens\\\\Nanobody sequences\\\\Sequences\\\\MA_STX18_C05_M13rev-29-A08.fas',\n",
       " 'C:\\\\Users\\\\nilsh\\\\OneDrive\\\\Desktop\\\\master_thesis\\\\binding_data\\\\RE_ binding data from Discovery of broadly neutralizing nanobodies using designed consensus antigens\\\\Nanobody sequences\\\\Sequences\\\\MA_STX18_C06_M13rev-29-A09.fas',\n",
       " 'C:\\\\Users\\\\nilsh\\\\OneDrive\\\\Desktop\\\\master_thesis\\\\binding_data\\\\RE_ binding data from Discovery of broadly neutralizing nanobodies using designed consensus antigens\\\\Nanobody sequences\\\\Sequences\\\\MA_STX18_C07_M13rev-29-A10.fas',\n",
       " 'C:\\\\Users\\\\nilsh\\\\OneDrive\\\\Desktop\\\\master_thesis\\\\binding_data\\\\RE_ binding data from Discovery of broadly neutralizing nanobodies using designed consensus antigens\\\\Nanobody sequences\\\\Sequences\\\\MA_STX18_C08_M13rev-29-A11.fas',\n",
       " 'C:\\\\Users\\\\nilsh\\\\OneDrive\\\\Desktop\\\\master_thesis\\\\binding_data\\\\RE_ binding data from Discovery of broadly neutralizing nanobodies using designed consensus antigens\\\\Nanobody sequences\\\\Sequences\\\\MA_STX18_C09_M13rev-29-A12.fas',\n",
       " 'C:\\\\Users\\\\nilsh\\\\OneDrive\\\\Desktop\\\\master_thesis\\\\binding_data\\\\RE_ binding data from Discovery of broadly neutralizing nanobodies using designed consensus antigens\\\\Nanobody sequences\\\\Sequences\\\\MA_STX18_C10_M13rev-29-B01.fas',\n",
       " 'C:\\\\Users\\\\nilsh\\\\OneDrive\\\\Desktop\\\\master_thesis\\\\binding_data\\\\RE_ binding data from Discovery of broadly neutralizing nanobodies using designed consensus antigens\\\\Nanobody sequences\\\\Sequences\\\\MA_STX18_C11_M13rev-29-B02.fas',\n",
       " 'C:\\\\Users\\\\nilsh\\\\OneDrive\\\\Desktop\\\\master_thesis\\\\binding_data\\\\RE_ binding data from Discovery of broadly neutralizing nanobodies using designed consensus antigens\\\\Nanobody sequences\\\\Sequences\\\\MA_STX18_C12_M13rev-29-B03.fas',\n",
       " 'C:\\\\Users\\\\nilsh\\\\OneDrive\\\\Desktop\\\\master_thesis\\\\binding_data\\\\RE_ binding data from Discovery of broadly neutralizing nanobodies using designed consensus antigens\\\\Nanobody sequences\\\\Sequences\\\\MA_STX18_D02_M13rev-29-B04.fas',\n",
       " 'C:\\\\Users\\\\nilsh\\\\OneDrive\\\\Desktop\\\\master_thesis\\\\binding_data\\\\RE_ binding data from Discovery of broadly neutralizing nanobodies using designed consensus antigens\\\\Nanobody sequences\\\\Sequences\\\\MA_STX18_D05_M13rev-29-B05.fas',\n",
       " 'C:\\\\Users\\\\nilsh\\\\OneDrive\\\\Desktop\\\\master_thesis\\\\binding_data\\\\RE_ binding data from Discovery of broadly neutralizing nanobodies using designed consensus antigens\\\\Nanobody sequences\\\\Sequences\\\\MA_STX18_D06_M13rev-29-B06.fas',\n",
       " 'C:\\\\Users\\\\nilsh\\\\OneDrive\\\\Desktop\\\\master_thesis\\\\binding_data\\\\RE_ binding data from Discovery of broadly neutralizing nanobodies using designed consensus antigens\\\\Nanobody sequences\\\\Sequences\\\\MA_STX18_D07_M13rev-29-B07.fas',\n",
       " 'C:\\\\Users\\\\nilsh\\\\OneDrive\\\\Desktop\\\\master_thesis\\\\binding_data\\\\RE_ binding data from Discovery of broadly neutralizing nanobodies using designed consensus antigens\\\\Nanobody sequences\\\\Sequences\\\\MA_STX18_D08_M13rev-29-B08.fas',\n",
       " 'C:\\\\Users\\\\nilsh\\\\OneDrive\\\\Desktop\\\\master_thesis\\\\binding_data\\\\RE_ binding data from Discovery of broadly neutralizing nanobodies using designed consensus antigens\\\\Nanobody sequences\\\\Sequences\\\\MA_STX18_D10_M13rev-29-B09.fas',\n",
       " 'C:\\\\Users\\\\nilsh\\\\OneDrive\\\\Desktop\\\\master_thesis\\\\binding_data\\\\RE_ binding data from Discovery of broadly neutralizing nanobodies using designed consensus antigens\\\\Nanobody sequences\\\\Sequences\\\\MA_STX18_D11_M13rev-29-B10.fas',\n",
       " 'C:\\\\Users\\\\nilsh\\\\OneDrive\\\\Desktop\\\\master_thesis\\\\binding_data\\\\RE_ binding data from Discovery of broadly neutralizing nanobodies using designed consensus antigens\\\\Nanobody sequences\\\\Sequences\\\\MA_STX18_D12_M13rev-29-B11.fas',\n",
       " 'C:\\\\Users\\\\nilsh\\\\OneDrive\\\\Desktop\\\\master_thesis\\\\binding_data\\\\RE_ binding data from Discovery of broadly neutralizing nanobodies using designed consensus antigens\\\\Nanobody sequences\\\\Sequences\\\\MA_STX18_E05_M13rev-29-B12.fas',\n",
       " 'C:\\\\Users\\\\nilsh\\\\OneDrive\\\\Desktop\\\\master_thesis\\\\binding_data\\\\RE_ binding data from Discovery of broadly neutralizing nanobodies using designed consensus antigens\\\\Nanobody sequences\\\\Sequences\\\\MA_STX18_E07_M13rev-29-C01.fas',\n",
       " 'C:\\\\Users\\\\nilsh\\\\OneDrive\\\\Desktop\\\\master_thesis\\\\binding_data\\\\RE_ binding data from Discovery of broadly neutralizing nanobodies using designed consensus antigens\\\\Nanobody sequences\\\\Sequences\\\\MA_STX18_E08_M13rev-29-C02.fas',\n",
       " 'C:\\\\Users\\\\nilsh\\\\OneDrive\\\\Desktop\\\\master_thesis\\\\binding_data\\\\RE_ binding data from Discovery of broadly neutralizing nanobodies using designed consensus antigens\\\\Nanobody sequences\\\\Sequences\\\\MA_STX18_E09_M13rev-29-C03.fas',\n",
       " 'C:\\\\Users\\\\nilsh\\\\OneDrive\\\\Desktop\\\\master_thesis\\\\binding_data\\\\RE_ binding data from Discovery of broadly neutralizing nanobodies using designed consensus antigens\\\\Nanobody sequences\\\\Sequences\\\\MA_STX18_E12_M13rev-29-C04.fas',\n",
       " 'C:\\\\Users\\\\nilsh\\\\OneDrive\\\\Desktop\\\\master_thesis\\\\binding_data\\\\RE_ binding data from Discovery of broadly neutralizing nanobodies using designed consensus antigens\\\\Nanobody sequences\\\\Sequences\\\\MA_STX18_F02_M13rev-29-C05.fas',\n",
       " 'C:\\\\Users\\\\nilsh\\\\OneDrive\\\\Desktop\\\\master_thesis\\\\binding_data\\\\RE_ binding data from Discovery of broadly neutralizing nanobodies using designed consensus antigens\\\\Nanobody sequences\\\\Sequences\\\\MA_STX18_F05_M13rev-29-C06.fas',\n",
       " 'C:\\\\Users\\\\nilsh\\\\OneDrive\\\\Desktop\\\\master_thesis\\\\binding_data\\\\RE_ binding data from Discovery of broadly neutralizing nanobodies using designed consensus antigens\\\\Nanobody sequences\\\\Sequences\\\\MA_STX18_F07_M13rev-29-C07.fas',\n",
       " 'C:\\\\Users\\\\nilsh\\\\OneDrive\\\\Desktop\\\\master_thesis\\\\binding_data\\\\RE_ binding data from Discovery of broadly neutralizing nanobodies using designed consensus antigens\\\\Nanobody sequences\\\\Sequences\\\\MA_STX18_F08_M13rev-29-C08.fas',\n",
       " 'C:\\\\Users\\\\nilsh\\\\OneDrive\\\\Desktop\\\\master_thesis\\\\binding_data\\\\RE_ binding data from Discovery of broadly neutralizing nanobodies using designed consensus antigens\\\\Nanobody sequences\\\\Sequences\\\\MA_STX18_F10_M13rev-29-C09.fas',\n",
       " 'C:\\\\Users\\\\nilsh\\\\OneDrive\\\\Desktop\\\\master_thesis\\\\binding_data\\\\RE_ binding data from Discovery of broadly neutralizing nanobodies using designed consensus antigens\\\\Nanobody sequences\\\\Sequences\\\\MA_STX18_F12_M13rev-29-C10.fas',\n",
       " 'C:\\\\Users\\\\nilsh\\\\OneDrive\\\\Desktop\\\\master_thesis\\\\binding_data\\\\RE_ binding data from Discovery of broadly neutralizing nanobodies using designed consensus antigens\\\\Nanobody sequences\\\\Sequences\\\\MA_STX19_A01_M13rev-29-C11.fas',\n",
       " 'C:\\\\Users\\\\nilsh\\\\OneDrive\\\\Desktop\\\\master_thesis\\\\binding_data\\\\RE_ binding data from Discovery of broadly neutralizing nanobodies using designed consensus antigens\\\\Nanobody sequences\\\\Sequences\\\\MA_STX19_A02_M13rev-29-C12.fas',\n",
       " 'C:\\\\Users\\\\nilsh\\\\OneDrive\\\\Desktop\\\\master_thesis\\\\binding_data\\\\RE_ binding data from Discovery of broadly neutralizing nanobodies using designed consensus antigens\\\\Nanobody sequences\\\\Sequences\\\\MA_STX19_A04_M13rev-29-D01.fas',\n",
       " 'C:\\\\Users\\\\nilsh\\\\OneDrive\\\\Desktop\\\\master_thesis\\\\binding_data\\\\RE_ binding data from Discovery of broadly neutralizing nanobodies using designed consensus antigens\\\\Nanobody sequences\\\\Sequences\\\\MA_STX19_A05_M13rev-29-D02.fas',\n",
       " 'C:\\\\Users\\\\nilsh\\\\OneDrive\\\\Desktop\\\\master_thesis\\\\binding_data\\\\RE_ binding data from Discovery of broadly neutralizing nanobodies using designed consensus antigens\\\\Nanobody sequences\\\\Sequences\\\\MA_STX19_A08_M13rev-29-D03.fas',\n",
       " 'C:\\\\Users\\\\nilsh\\\\OneDrive\\\\Desktop\\\\master_thesis\\\\binding_data\\\\RE_ binding data from Discovery of broadly neutralizing nanobodies using designed consensus antigens\\\\Nanobody sequences\\\\Sequences\\\\MA_STX19_A09_M13rev-29-D04.fas',\n",
       " 'C:\\\\Users\\\\nilsh\\\\OneDrive\\\\Desktop\\\\master_thesis\\\\binding_data\\\\RE_ binding data from Discovery of broadly neutralizing nanobodies using designed consensus antigens\\\\Nanobody sequences\\\\Sequences\\\\MA_STX19_A10_M13rev-29-D05.fas',\n",
       " 'C:\\\\Users\\\\nilsh\\\\OneDrive\\\\Desktop\\\\master_thesis\\\\binding_data\\\\RE_ binding data from Discovery of broadly neutralizing nanobodies using designed consensus antigens\\\\Nanobody sequences\\\\Sequences\\\\MA_STX19_A12_M13rev-29-D06.fas',\n",
       " 'C:\\\\Users\\\\nilsh\\\\OneDrive\\\\Desktop\\\\master_thesis\\\\binding_data\\\\RE_ binding data from Discovery of broadly neutralizing nanobodies using designed consensus antigens\\\\Nanobody sequences\\\\Sequences\\\\MA_STX19_B02_M13rev-29-D07.fas',\n",
       " 'C:\\\\Users\\\\nilsh\\\\OneDrive\\\\Desktop\\\\master_thesis\\\\binding_data\\\\RE_ binding data from Discovery of broadly neutralizing nanobodies using designed consensus antigens\\\\Nanobody sequences\\\\Sequences\\\\MA_STX19_B03_M13rev-29-D08.fas',\n",
       " 'C:\\\\Users\\\\nilsh\\\\OneDrive\\\\Desktop\\\\master_thesis\\\\binding_data\\\\RE_ binding data from Discovery of broadly neutralizing nanobodies using designed consensus antigens\\\\Nanobody sequences\\\\Sequences\\\\MA_STX19_B04_M13rev-29-D09.fas',\n",
       " 'C:\\\\Users\\\\nilsh\\\\OneDrive\\\\Desktop\\\\master_thesis\\\\binding_data\\\\RE_ binding data from Discovery of broadly neutralizing nanobodies using designed consensus antigens\\\\Nanobody sequences\\\\Sequences\\\\MA_STX19_B06_M13rev-29-D10.fas',\n",
       " 'C:\\\\Users\\\\nilsh\\\\OneDrive\\\\Desktop\\\\master_thesis\\\\binding_data\\\\RE_ binding data from Discovery of broadly neutralizing nanobodies using designed consensus antigens\\\\Nanobody sequences\\\\Sequences\\\\MA_STX19_B07_M13rev-29-D11.fas',\n",
       " 'C:\\\\Users\\\\nilsh\\\\OneDrive\\\\Desktop\\\\master_thesis\\\\binding_data\\\\RE_ binding data from Discovery of broadly neutralizing nanobodies using designed consensus antigens\\\\Nanobody sequences\\\\Sequences\\\\MA_STX19_B08_M13rev-29-D12.fas',\n",
       " 'C:\\\\Users\\\\nilsh\\\\OneDrive\\\\Desktop\\\\master_thesis\\\\binding_data\\\\RE_ binding data from Discovery of broadly neutralizing nanobodies using designed consensus antigens\\\\Nanobody sequences\\\\Sequences\\\\MA_STX19_B09_M13rev-29-E01.fas',\n",
       " 'C:\\\\Users\\\\nilsh\\\\OneDrive\\\\Desktop\\\\master_thesis\\\\binding_data\\\\RE_ binding data from Discovery of broadly neutralizing nanobodies using designed consensus antigens\\\\Nanobody sequences\\\\Sequences\\\\MA_STX19_B10_M13rev-29-E02.fas',\n",
       " 'C:\\\\Users\\\\nilsh\\\\OneDrive\\\\Desktop\\\\master_thesis\\\\binding_data\\\\RE_ binding data from Discovery of broadly neutralizing nanobodies using designed consensus antigens\\\\Nanobody sequences\\\\Sequences\\\\MA_STX19_C01_M13rev-29-E03.fas',\n",
       " 'C:\\\\Users\\\\nilsh\\\\OneDrive\\\\Desktop\\\\master_thesis\\\\binding_data\\\\RE_ binding data from Discovery of broadly neutralizing nanobodies using designed consensus antigens\\\\Nanobody sequences\\\\Sequences\\\\MA_STX19_C04_M13rev-29-E04.fas',\n",
       " 'C:\\\\Users\\\\nilsh\\\\OneDrive\\\\Desktop\\\\master_thesis\\\\binding_data\\\\RE_ binding data from Discovery of broadly neutralizing nanobodies using designed consensus antigens\\\\Nanobody sequences\\\\Sequences\\\\MA_STX19_C05_M13rev-29-E05.fas',\n",
       " 'C:\\\\Users\\\\nilsh\\\\OneDrive\\\\Desktop\\\\master_thesis\\\\binding_data\\\\RE_ binding data from Discovery of broadly neutralizing nanobodies using designed consensus antigens\\\\Nanobody sequences\\\\Sequences\\\\MA_STX19_C06_M13rev-29-E06.fas',\n",
       " 'C:\\\\Users\\\\nilsh\\\\OneDrive\\\\Desktop\\\\master_thesis\\\\binding_data\\\\RE_ binding data from Discovery of broadly neutralizing nanobodies using designed consensus antigens\\\\Nanobody sequences\\\\Sequences\\\\MA_STX19_C07_M13rev-29-E07.fas',\n",
       " 'C:\\\\Users\\\\nilsh\\\\OneDrive\\\\Desktop\\\\master_thesis\\\\binding_data\\\\RE_ binding data from Discovery of broadly neutralizing nanobodies using designed consensus antigens\\\\Nanobody sequences\\\\Sequences\\\\MA_STX19_C08_M13rev-29-E08.fas',\n",
       " 'C:\\\\Users\\\\nilsh\\\\OneDrive\\\\Desktop\\\\master_thesis\\\\binding_data\\\\RE_ binding data from Discovery of broadly neutralizing nanobodies using designed consensus antigens\\\\Nanobody sequences\\\\Sequences\\\\MA_STX19_C09_M13rev-29-E09.fas',\n",
       " 'C:\\\\Users\\\\nilsh\\\\OneDrive\\\\Desktop\\\\master_thesis\\\\binding_data\\\\RE_ binding data from Discovery of broadly neutralizing nanobodies using designed consensus antigens\\\\Nanobody sequences\\\\Sequences\\\\MA_STX19_C10_M13rev-29-E10.fas',\n",
       " 'C:\\\\Users\\\\nilsh\\\\OneDrive\\\\Desktop\\\\master_thesis\\\\binding_data\\\\RE_ binding data from Discovery of broadly neutralizing nanobodies using designed consensus antigens\\\\Nanobody sequences\\\\Sequences\\\\MA_STX19_C11_M13rev-29-E11.fas',\n",
       " 'C:\\\\Users\\\\nilsh\\\\OneDrive\\\\Desktop\\\\master_thesis\\\\binding_data\\\\RE_ binding data from Discovery of broadly neutralizing nanobodies using designed consensus antigens\\\\Nanobody sequences\\\\Sequences\\\\MA_STX19_C12_M13rev-29-E12.fas',\n",
       " 'C:\\\\Users\\\\nilsh\\\\OneDrive\\\\Desktop\\\\master_thesis\\\\binding_data\\\\RE_ binding data from Discovery of broadly neutralizing nanobodies using designed consensus antigens\\\\Nanobody sequences\\\\Sequences\\\\MA_STX19_D01_M13rev-29-F01.fas',\n",
       " 'C:\\\\Users\\\\nilsh\\\\OneDrive\\\\Desktop\\\\master_thesis\\\\binding_data\\\\RE_ binding data from Discovery of broadly neutralizing nanobodies using designed consensus antigens\\\\Nanobody sequences\\\\Sequences\\\\MA_STX19_D02_M13rev-29-F02.fas',\n",
       " 'C:\\\\Users\\\\nilsh\\\\OneDrive\\\\Desktop\\\\master_thesis\\\\binding_data\\\\RE_ binding data from Discovery of broadly neutralizing nanobodies using designed consensus antigens\\\\Nanobody sequences\\\\Sequences\\\\MA_STX19_D05_M13rev-29-F03.fas',\n",
       " 'C:\\\\Users\\\\nilsh\\\\OneDrive\\\\Desktop\\\\master_thesis\\\\binding_data\\\\RE_ binding data from Discovery of broadly neutralizing nanobodies using designed consensus antigens\\\\Nanobody sequences\\\\Sequences\\\\MA_STX19_D06_M13rev-29-F04.fas',\n",
       " 'C:\\\\Users\\\\nilsh\\\\OneDrive\\\\Desktop\\\\master_thesis\\\\binding_data\\\\RE_ binding data from Discovery of broadly neutralizing nanobodies using designed consensus antigens\\\\Nanobody sequences\\\\Sequences\\\\MA_STX19_D07_M13rev-29-F05.fas',\n",
       " 'C:\\\\Users\\\\nilsh\\\\OneDrive\\\\Desktop\\\\master_thesis\\\\binding_data\\\\RE_ binding data from Discovery of broadly neutralizing nanobodies using designed consensus antigens\\\\Nanobody sequences\\\\Sequences\\\\MA_STX19_D08_M13rev-29-F06.fas',\n",
       " 'C:\\\\Users\\\\nilsh\\\\OneDrive\\\\Desktop\\\\master_thesis\\\\binding_data\\\\RE_ binding data from Discovery of broadly neutralizing nanobodies using designed consensus antigens\\\\Nanobody sequences\\\\Sequences\\\\MA_STX19_D09_M13rev-29-F07.fas',\n",
       " 'C:\\\\Users\\\\nilsh\\\\OneDrive\\\\Desktop\\\\master_thesis\\\\binding_data\\\\RE_ binding data from Discovery of broadly neutralizing nanobodies using designed consensus antigens\\\\Nanobody sequences\\\\Sequences\\\\MA_STX19_D10_M13rev-29-F08.fas',\n",
       " 'C:\\\\Users\\\\nilsh\\\\OneDrive\\\\Desktop\\\\master_thesis\\\\binding_data\\\\RE_ binding data from Discovery of broadly neutralizing nanobodies using designed consensus antigens\\\\Nanobody sequences\\\\Sequences\\\\MA_STX19_D11_M13rev-29-F09.fas',\n",
       " 'C:\\\\Users\\\\nilsh\\\\OneDrive\\\\Desktop\\\\master_thesis\\\\binding_data\\\\RE_ binding data from Discovery of broadly neutralizing nanobodies using designed consensus antigens\\\\Nanobody sequences\\\\Sequences\\\\MA_STX19_D12_M13rev-29-F10.fas',\n",
       " 'C:\\\\Users\\\\nilsh\\\\OneDrive\\\\Desktop\\\\master_thesis\\\\binding_data\\\\RE_ binding data from Discovery of broadly neutralizing nanobodies using designed consensus antigens\\\\Nanobody sequences\\\\Sequences\\\\MA_STX19_E02_M13rev-29-F11.fas',\n",
       " 'C:\\\\Users\\\\nilsh\\\\OneDrive\\\\Desktop\\\\master_thesis\\\\binding_data\\\\RE_ binding data from Discovery of broadly neutralizing nanobodies using designed consensus antigens\\\\Nanobody sequences\\\\Sequences\\\\MA_STX19_E03_M13rev-29-F12.fas',\n",
       " 'C:\\\\Users\\\\nilsh\\\\OneDrive\\\\Desktop\\\\master_thesis\\\\binding_data\\\\RE_ binding data from Discovery of broadly neutralizing nanobodies using designed consensus antigens\\\\Nanobody sequences\\\\Sequences\\\\MA_STX19_E04_M13rev-29-G01.fas',\n",
       " 'C:\\\\Users\\\\nilsh\\\\OneDrive\\\\Desktop\\\\master_thesis\\\\binding_data\\\\RE_ binding data from Discovery of broadly neutralizing nanobodies using designed consensus antigens\\\\Nanobody sequences\\\\Sequences\\\\MA_STX19_E05_M13rev-29-G02.fas',\n",
       " 'C:\\\\Users\\\\nilsh\\\\OneDrive\\\\Desktop\\\\master_thesis\\\\binding_data\\\\RE_ binding data from Discovery of broadly neutralizing nanobodies using designed consensus antigens\\\\Nanobody sequences\\\\Sequences\\\\MA_STX19_E06_M13rev-29-G03.fas',\n",
       " 'C:\\\\Users\\\\nilsh\\\\OneDrive\\\\Desktop\\\\master_thesis\\\\binding_data\\\\RE_ binding data from Discovery of broadly neutralizing nanobodies using designed consensus antigens\\\\Nanobody sequences\\\\Sequences\\\\MA_STX19_E07_M13rev-29-G04.fas',\n",
       " 'C:\\\\Users\\\\nilsh\\\\OneDrive\\\\Desktop\\\\master_thesis\\\\binding_data\\\\RE_ binding data from Discovery of broadly neutralizing nanobodies using designed consensus antigens\\\\Nanobody sequences\\\\Sequences\\\\MA_STX19_E08_M13rev-29-G05.fas',\n",
       " 'C:\\\\Users\\\\nilsh\\\\OneDrive\\\\Desktop\\\\master_thesis\\\\binding_data\\\\RE_ binding data from Discovery of broadly neutralizing nanobodies using designed consensus antigens\\\\Nanobody sequences\\\\Sequences\\\\MA_STX19_E09_M13rev-29-G06.fas',\n",
       " 'C:\\\\Users\\\\nilsh\\\\OneDrive\\\\Desktop\\\\master_thesis\\\\binding_data\\\\RE_ binding data from Discovery of broadly neutralizing nanobodies using designed consensus antigens\\\\Nanobody sequences\\\\Sequences\\\\MA_STX19_E11_M13rev-29-G07.fas',\n",
       " 'C:\\\\Users\\\\nilsh\\\\OneDrive\\\\Desktop\\\\master_thesis\\\\binding_data\\\\RE_ binding data from Discovery of broadly neutralizing nanobodies using designed consensus antigens\\\\Nanobody sequences\\\\Sequences\\\\MA_STX19_F02_M13rev-29-G08.fas',\n",
       " 'C:\\\\Users\\\\nilsh\\\\OneDrive\\\\Desktop\\\\master_thesis\\\\binding_data\\\\RE_ binding data from Discovery of broadly neutralizing nanobodies using designed consensus antigens\\\\Nanobody sequences\\\\Sequences\\\\MA_STX19_F03_M13rev-29-G09.fas',\n",
       " 'C:\\\\Users\\\\nilsh\\\\OneDrive\\\\Desktop\\\\master_thesis\\\\binding_data\\\\RE_ binding data from Discovery of broadly neutralizing nanobodies using designed consensus antigens\\\\Nanobody sequences\\\\Sequences\\\\MA_STX19_F05_M13rev-29-G10.fas',\n",
       " 'C:\\\\Users\\\\nilsh\\\\OneDrive\\\\Desktop\\\\master_thesis\\\\binding_data\\\\RE_ binding data from Discovery of broadly neutralizing nanobodies using designed consensus antigens\\\\Nanobody sequences\\\\Sequences\\\\MA_STX19_F08_M13rev-29-G11.fas',\n",
       " 'C:\\\\Users\\\\nilsh\\\\OneDrive\\\\Desktop\\\\master_thesis\\\\binding_data\\\\RE_ binding data from Discovery of broadly neutralizing nanobodies using designed consensus antigens\\\\Nanobody sequences\\\\Sequences\\\\MA_STX19_F09_M13rev-29-G12.fas',\n",
       " 'C:\\\\Users\\\\nilsh\\\\OneDrive\\\\Desktop\\\\master_thesis\\\\binding_data\\\\RE_ binding data from Discovery of broadly neutralizing nanobodies using designed consensus antigens\\\\Nanobody sequences\\\\Sequences\\\\MA_STX19_F10_M13rev-29-H01.fas',\n",
       " 'C:\\\\Users\\\\nilsh\\\\OneDrive\\\\Desktop\\\\master_thesis\\\\binding_data\\\\RE_ binding data from Discovery of broadly neutralizing nanobodies using designed consensus antigens\\\\Nanobody sequences\\\\Sequences\\\\MA_STX19_F11_M13rev-29-H02.fas',\n",
       " 'C:\\\\Users\\\\nilsh\\\\OneDrive\\\\Desktop\\\\master_thesis\\\\binding_data\\\\RE_ binding data from Discovery of broadly neutralizing nanobodies using designed consensus antigens\\\\Nanobody sequences\\\\Sequences\\\\MA_STX19_G03_M13rev-29-H03.fas',\n",
       " 'C:\\\\Users\\\\nilsh\\\\OneDrive\\\\Desktop\\\\master_thesis\\\\binding_data\\\\RE_ binding data from Discovery of broadly neutralizing nanobodies using designed consensus antigens\\\\Nanobody sequences\\\\Sequences\\\\MA_STX19_G04_M13rev-29-H04.fas',\n",
       " 'C:\\\\Users\\\\nilsh\\\\OneDrive\\\\Desktop\\\\master_thesis\\\\binding_data\\\\RE_ binding data from Discovery of broadly neutralizing nanobodies using designed consensus antigens\\\\Nanobody sequences\\\\Sequences\\\\MA_STX19_G05_M13rev-29-H05.fas',\n",
       " 'C:\\\\Users\\\\nilsh\\\\OneDrive\\\\Desktop\\\\master_thesis\\\\binding_data\\\\RE_ binding data from Discovery of broadly neutralizing nanobodies using designed consensus antigens\\\\Nanobody sequences\\\\Sequences\\\\MA_STX19_G07_M13rev-29-H06.fas',\n",
       " 'C:\\\\Users\\\\nilsh\\\\OneDrive\\\\Desktop\\\\master_thesis\\\\binding_data\\\\RE_ binding data from Discovery of broadly neutralizing nanobodies using designed consensus antigens\\\\Nanobody sequences\\\\Sequences\\\\MA_STX19_G08_M13rev-29-H07.fas',\n",
       " 'C:\\\\Users\\\\nilsh\\\\OneDrive\\\\Desktop\\\\master_thesis\\\\binding_data\\\\RE_ binding data from Discovery of broadly neutralizing nanobodies using designed consensus antigens\\\\Nanobody sequences\\\\Sequences\\\\MA_STX19_G10_M13rev-29-H08.fas',\n",
       " 'C:\\\\Users\\\\nilsh\\\\OneDrive\\\\Desktop\\\\master_thesis\\\\binding_data\\\\RE_ binding data from Discovery of broadly neutralizing nanobodies using designed consensus antigens\\\\Nanobody sequences\\\\Sequences\\\\MA_STX19_G11_M13rev-29-H09.fas',\n",
       " 'C:\\\\Users\\\\nilsh\\\\OneDrive\\\\Desktop\\\\master_thesis\\\\binding_data\\\\RE_ binding data from Discovery of broadly neutralizing nanobodies using designed consensus antigens\\\\Nanobody sequences\\\\Sequences\\\\MA_STX19_G12_M13rev-29-H10.fas',\n",
       " 'C:\\\\Users\\\\nilsh\\\\OneDrive\\\\Desktop\\\\master_thesis\\\\binding_data\\\\RE_ binding data from Discovery of broadly neutralizing nanobodies using designed consensus antigens\\\\Nanobody sequences\\\\Sequences\\\\MA_STX19_H03_M13rev-29-H11.fas']"
      ]
     },
     "execution_count": 10,
     "metadata": {},
     "output_type": "execute_result"
    }
   ],
   "source": [
    "binding_data = pd.read_excel(r\"c:\\Users\\nilsh\\OneDrive\\Desktop\\MA_STX19.xlsx\", sheet_name = \"MA_STX19\")\n",
    "binding_data.head(10)\n",
    "sequence_path = r\"C:\\Users\\nilsh\\OneDrive\\Desktop\\master_thesis\\binding_data\\RE_ binding data from Discovery of broadly neutralizing nanobodies using designed consensus antigens\\Nanobody sequences\\Sequences\"\n",
    "all_paths = glob.glob(sequence_path + \"/*.fas\")\n"
   ]
  },
  {
   "cell_type": "code",
   "execution_count": 12,
   "metadata": {},
   "outputs": [
    {
     "data": {
      "text/html": [
       "<div>\n",
       "<style scoped>\n",
       "    .dataframe tbody tr th:only-of-type {\n",
       "        vertical-align: middle;\n",
       "    }\n",
       "\n",
       "    .dataframe tbody tr th {\n",
       "        vertical-align: top;\n",
       "    }\n",
       "\n",
       "    .dataframe thead th {\n",
       "        text-align: right;\n",
       "    }\n",
       "</style>\n",
       "<table border=\"1\" class=\"dataframe\">\n",
       "  <thead>\n",
       "    <tr style=\"text-align: right;\">\n",
       "      <th></th>\n",
       "      <th>Header</th>\n",
       "      <th>Sequence</th>\n",
       "    </tr>\n",
       "  </thead>\n",
       "  <tbody>\n",
       "    <tr>\n",
       "      <th>0</th>\n",
       "      <td>MA_STX18_A11_M13rev-29-A01</td>\n",
       "      <td>cctgtgggtGCAATTCTATTTCAaGGGAGACAGTCATAATGAAAAA...</td>\n",
       "    </tr>\n",
       "    <tr>\n",
       "      <th>1</th>\n",
       "      <td>MA_STX18_A12_M13rev-29-A02</td>\n",
       "      <td>ccagCTGctgCAaTTCTATTttcaaGGGAGACAGTCaTaATGAAAa...</td>\n",
       "    </tr>\n",
       "    <tr>\n",
       "      <th>2</th>\n",
       "      <td>MA_STX18_B06_M13rev-29-A03</td>\n",
       "      <td>ccccctGctGCAATTCTATTTtcaaGGgAagAacAGTccaTaAATG...</td>\n",
       "    </tr>\n",
       "    <tr>\n",
       "      <th>3</th>\n",
       "      <td>MA_STX18_B07_M13rev-29-A04</td>\n",
       "      <td>acaGCTGctGCAATTCTATTTCAaGGAGACAGTCATAATGAAAAAG...</td>\n",
       "    </tr>\n",
       "    <tr>\n",
       "      <th>4</th>\n",
       "      <td>MA_STX18_B10_M13rev-29-A05</td>\n",
       "      <td>cctggtggtGcaAATTCTATTTCAaGGGAGAcAGTCATAATGAAAA...</td>\n",
       "    </tr>\n",
       "    <tr>\n",
       "      <th>5</th>\n",
       "      <td>MA_STX18_B11_M13rev-29-A06</td>\n",
       "      <td>cccgcTGgtGCAATTCTATTTCAaGGGAGAcAGTCATAATGAAAAA...</td>\n",
       "    </tr>\n",
       "    <tr>\n",
       "      <th>6</th>\n",
       "      <td>MA_STX18_B12_M13rev-29-A07</td>\n",
       "      <td>cccgtTGctGCAATTCTATTTCAaGGAGACAGTCATAATGAAAAAG...</td>\n",
       "    </tr>\n",
       "    <tr>\n",
       "      <th>7</th>\n",
       "      <td>MA_STX18_C05_M13rev-29-A08</td>\n",
       "      <td>cccgCtgggCAATTCTATTTCAGGGAGAcAGTCATAATGAAAAAGA...</td>\n",
       "    </tr>\n",
       "    <tr>\n",
       "      <th>8</th>\n",
       "      <td>MA_STX18_C06_M13rev-29-A09</td>\n",
       "      <td>atttgCtggtGCAATTCTATTTCAaGGAGACAGTCATAAATGAAAA...</td>\n",
       "    </tr>\n",
       "    <tr>\n",
       "      <th>9</th>\n",
       "      <td>MA_STX18_C07_M13rev-29-A10</td>\n",
       "      <td>cctgctGctGCAATTCTATTTCAaGGGAGACAGTCATaATGAAAAA...</td>\n",
       "    </tr>\n",
       "  </tbody>\n",
       "</table>\n",
       "</div>"
      ],
      "text/plain": [
       "                       Header  \\\n",
       "0  MA_STX18_A11_M13rev-29-A01   \n",
       "1  MA_STX18_A12_M13rev-29-A02   \n",
       "2  MA_STX18_B06_M13rev-29-A03   \n",
       "3  MA_STX18_B07_M13rev-29-A04   \n",
       "4  MA_STX18_B10_M13rev-29-A05   \n",
       "5  MA_STX18_B11_M13rev-29-A06   \n",
       "6  MA_STX18_B12_M13rev-29-A07   \n",
       "7  MA_STX18_C05_M13rev-29-A08   \n",
       "8  MA_STX18_C06_M13rev-29-A09   \n",
       "9  MA_STX18_C07_M13rev-29-A10   \n",
       "\n",
       "                                            Sequence  \n",
       "0  cctgtgggtGCAATTCTATTTCAaGGGAGACAGTCATAATGAAAAA...  \n",
       "1  ccagCTGctgCAaTTCTATTttcaaGGGAGACAGTCaTaATGAAAa...  \n",
       "2  ccccctGctGCAATTCTATTTtcaaGGgAagAacAGTccaTaAATG...  \n",
       "3  acaGCTGctGCAATTCTATTTCAaGGAGACAGTCATAATGAAAAAG...  \n",
       "4  cctggtggtGcaAATTCTATTTCAaGGGAGAcAGTCATAATGAAAA...  \n",
       "5  cccgcTGgtGCAATTCTATTTCAaGGGAGAcAGTCATAATGAAAAA...  \n",
       "6  cccgtTGctGCAATTCTATTTCAaGGAGACAGTCATAATGAAAAAG...  \n",
       "7  cccgCtgggCAATTCTATTTCAGGGAGAcAGTCATAATGAAAAAGA...  \n",
       "8  atttgCtggtGCAATTCTATTTCAaGGAGACAGTCATAAATGAAAA...  \n",
       "9  cctgctGctGCAATTCTATTTCAaGGGAGACAGTCATaATGAAAAA...  "
      ]
     },
     "execution_count": 12,
     "metadata": {},
     "output_type": "execute_result"
    }
   ],
   "source": [
    "from Bio import SeqIO\n",
    "\n",
    "def read_fasta_files(directory):\n",
    "    data = {'Header': [], 'Sequence': []}  # Initialize a dictionary to hold data\n",
    "\n",
    "    # Iterate through every file in the directory\n",
    "    for filename in glob.glob(directory + \"/*.fas\"):\n",
    "        if filename.endswith(\".fas\"):  # Check if the file is a FASTA file\n",
    "            filepath = os.path.join(directory, filename)\n",
    "            for record in SeqIO.parse(filepath, \"fasta\"):\n",
    "                data['Header'].append(record.id)       # Append the header to the Header list\n",
    "                data['Sequence'].append(str(record.seq))  # Append the sequence to the Sequence list\n",
    "\n",
    "    # Convert the dictionary into a pandas DataFrame\n",
    "    df = pd.DataFrame(data)\n",
    "    return df\n",
    "\n",
    "sequences = read_fasta_files(sequence_path)\n",
    "sequences.head(10)"
   ]
  },
  {
   "cell_type": "code",
   "execution_count": 11,
   "metadata": {},
   "outputs": [
    {
     "name": "stderr",
     "output_type": "stream",
     "text": [
      "c:\\Users\\nilsh\\my_projects\\SeqLP\\.venv\\Lib\\site-packages\\umap\\umap_.py:1945: UserWarning: n_jobs value 1 overridden to 1 by setting random_state. Use no seed for parallelism.\n",
      "  warn(f\"n_jobs value {self.n_jobs} overridden to 1 by setting random_state. Use no seed for parallelism.\")\n"
     ]
    }
   ],
   "source": [
    "from seqlp.visualize.tidy_protbert_embedding import TransformerBased \n",
    "results, reduced_dim = TransformerBased.do_umap(Data.sequences_array, n_neighbors=15, min_dist = 0.2, random_seed = 42, n_components=2, metric=\"euclidean\")"
   ]
  },
  {
   "cell_type": "code",
   "execution_count": 12,
   "metadata": {},
   "outputs": [],
   "source": [
    "results[\"v_gene\"] =  v_family\n",
    "from sklearn.preprocessing import LabelEncoder\n",
    "\n",
    "le = LabelEncoder()\n",
    "results[\"v_gene_encoded\"] = le.fit_transform(results[\"v_gene\"])"
   ]
  },
  {
   "cell_type": "code",
   "execution_count": 16,
   "metadata": {},
   "outputs": [
    {
     "name": "stderr",
     "output_type": "stream",
     "text": [
      "C:\\Users\\nilsh\\AppData\\Local\\Temp\\ipykernel_22496\\3057312266.py:15: UserWarning: No data for colormapping provided via 'c'. Parameters 'cmap' will be ignored\n",
      "  plt.scatter(results[\"UMAP_1\"][mask], results[\"UMAP_2\"][mask],cmap = \"tab20\",  color=colors[i], label=category, s=10)\n"
     ]
    },
    {
     "data": {
      "image/png": "[encoded data removed]",
      "text/plain": [
       "<Figure size 640x480 with 1 Axes>"
      ]
     },
     "metadata": {},
     "output_type": "display_data"
    }
   ],
   "source": [
    "import matplotlib.pyplot as plt\n",
    "import numpy as np \n",
    "# Get unique categories\n",
    "categories = np.unique(results[\"v_gene_encoded\"])\n",
    "\n",
    "# Create a color map\n",
    "cmap = plt.get_cmap('tab20')\n",
    "colors = cmap(np.linspace(0, 1, len(categories)))\n",
    "\n",
    "for i, category in enumerate(categories):\n",
    "    # Create a boolean mask for the current category\n",
    "    mask = results[\"v_gene_encoded\"] == category\n",
    "\n",
    "    # Plot the points for this category\n",
    "    plt.scatter(results[\"UMAP_1\"][mask], results[\"UMAP_2\"][mask],cmap = \"tab20\",  color=colors[i], label=category, s=10)\n",
    "\n",
    "plt.legend()\n",
    "plt.show()"
   ]
  },
  {
   "cell_type": "code",
   "execution_count": null,
   "metadata": {},
   "outputs": [],
   "source": [
    "from seqlp.visualize.comparative_analysis import Pipeline"
   ]
  },
  {
   "cell_type": "code",
   "execution_count": null,
   "metadata": {},
   "outputs": [],
   "source": []
  },
  {
   "cell_type": "code",
   "execution_count": null,
   "metadata": {},
   "outputs": [],
   "source": [
    "Pipe = Pipeline(model_path = r\"C:\\Users\\nilsh\\my_projects\\ExpoSeq\\models\\nanobody_full\")\n",
    "\n",
    "Pipe.single_sequence(sequencing_report.head(1))"
   ]
  },
  {
   "cell_type": "code",
   "execution_count": null,
   "metadata": {},
   "outputs": [],
   "source": [
    "print(collection_array.shape)"
   ]
  },
  {
   "cell_type": "code",
   "execution_count": null,
   "metadata": {},
   "outputs": [],
   "source": [
    "import seaborn as sns\n",
    "\n",
    "sns.heatmap(collection_array[0, :, :], )"
   ]
  },
  {
   "cell_type": "code",
   "execution_count": null,
   "metadata": {},
   "outputs": [],
   "source": [
    "collection_array = run_pipeline(path_csv = r\"C:\\Users\\nilsh\\my_projects\\ExpoSeq\\my_experiments\\max_new\\sequencing_report.csv\",\n",
    "             number_sequences_per_group=1,\n",
    "             muscle_path=r\"C:\\Users\\nilsh\\Downloads\\muscle3.8.31_i86win32.exe\",\n",
    "             model_path = r\"C:\\Users\\nilsh\\my_projects\\ExpoSeq\\models\\nanobody_full\", )"
   ]
  },
  {
   "cell_type": "code",
   "execution_count": null,
   "metadata": {},
   "outputs": [],
   "source": [
    "import seaborn as sns\n",
    "\n",
    "sns.heatmap(collection_array[0, :, :], )"
   ]
  }
 ],
 "metadata": {
  "kernelspec": {
   "display_name": ".venv",
   "language": "python",
   "name": "python3"
  },
  "language_info": {
   "codemirror_mode": {
    "name": "ipython",
    "version": 3
   },
   "file_extension": ".py",
   "mimetype": "text/x-python",
   "name": "python",
   "nbconvert_exporter": "python",
   "pygments_lexer": "ipython3",
   "version": "3.11.3"
  }
 },
 "nbformat": 4,
 "nbformat_minor": 2
}
