{
 "cells": [
  {
   "cell_type": "markdown",
   "metadata": {},
   "source": [
    "## Setup and important functions\n"
   ]
  },
  {
   "cell_type": "code",
   "execution_count": 1,
   "metadata": {},
   "outputs": [
    {
     "name": "stdout",
     "output_type": "stream",
     "text": [
      "Current Working Directory: c:\\Users\\nilsh\\my_projects\\SeqLP\\jupyter_scripts\n"
     ]
    }
   ],
   "source": [
    "import os\n",
    "import sys\n",
    "dir_project = os.path.dirname(os.getcwd())\n",
    "path = os.path.join(dir_project, 'src')\n",
    "if path not in sys.path:\n",
    "    sys.path.append(path)\n",
    "\n",
    "current_directory = os.getcwd()\n",
    "#os.chdir(os.path.join(dir_project, 'src'))\n",
    "print(\"Current Working Directory:\", os.getcwd())"
   ]
  },
  {
   "cell_type": "code",
   "execution_count": 2,
   "metadata": {},
   "outputs": [
    {
     "name": "stderr",
     "output_type": "stream",
     "text": [
      "c:\\Users\\nilsh\\my_projects\\SeqLP\\.venv\\Lib\\site-packages\\tqdm\\auto.py:21: TqdmWarning: IProgress not found. Please update jupyter and ipywidgets. See https://ipywidgets.readthedocs.io/en/stable/user_install.html\n",
      "  from .autonotebook import tqdm as notebook_tqdm\n"
     ]
    }
   ],
   "source": [
    "import pandas as pd\n",
    "from seqlp.visualize.supervised_ml import DataPipeline, SupervisedML\n",
    "import glob\n",
    "from seqlp.use_model import AnalyseModel\n",
    "from Bio import SeqIO\n",
    "import time\n",
    "import numpy as np\n",
    "import matplotlib.pyplot as plt\n"
   ]
  },
  {
   "cell_type": "code",
   "execution_count": 3,
   "metadata": {},
   "outputs": [],
   "source": [
    "nanobody_delphia_no_ag_filter = pd.read_excel(r\"C:\\Users\\nilsh\\OneDrive\\Desktop\\results_thesis\\data\\nanobody_delphia_no_ag_filter.xlsx\")\n",
    "nanobody_delphia_ag_filter = pd.read_excel(r\"C:\\Users\\nilsh\\OneDrive\\Desktop\\results_thesis\\data\\nanobody_delphia_tidied.xlsx\")\n",
    "binding_data = pd.read_excel(r\"C:\\Users\\nilsh\\OneDrive\\Desktop\\results_thesis\\data\\all_binding_data.xlsx\")\n",
    "sequencing_report = pd.read_csv(r\"C:\\Users\\nilsh\\my_projects\\ExpoSeq\\my_experiments\\max_new\\sequencing_report.csv\",)"
   ]
  },
  {
   "cell_type": "markdown",
   "metadata": {},
   "source": [
    "Models"
   ]
  },
  {
   "cell_type": "code",
   "execution_count": 4,
   "metadata": {},
   "outputs": [],
   "source": [
    "nanobody_model = r\"C:\\Users\\nilsh\\my_projects\\SeqLP\\tests\\test_data\\nanobody_model\"\n",
    "esm_small = r\"facebook/esm2_t6_8M_UR50D\"\n"
   ]
  },
  {
   "cell_type": "code",
   "execution_count": null,
   "metadata": {},
   "outputs": [],
   "source": [
    "\n",
    "\n",
    "def read_fasta(fasta_file):\n",
    "    sequences = []\n",
    "    headers = []\n",
    "    for record in SeqIO.parse(fasta_file, \"fasta\"):\n",
    "        sequences.append(str(record.seq))\n",
    "        headers.append(record.id)\n",
    "    return sequences, headers\n",
    "\n",
    "from Bio.Seq import Seq\n",
    "def translate_nucleotide_to_amino_acid(nucleotide_sequence):\n",
    "    seq = Seq(nucleotide_sequence)\n",
    "    return str(seq.translate())    \n"
   ]
  },
  {
   "cell_type": "code",
   "execution_count": null,
   "metadata": {},
   "outputs": [],
   "source": [
    "Data = DataPipeline(model = r\"C:\\Users\\nilsh\\my_projects\\ExpoSeq\\models\\nanobody_full\",\n",
    "             path_seq_report = r\"C:\\Users\\nilsh\\my_projects\\ExpoSeq\\my_experiments\\max_new\\sequencing_report.csv\",\n",
    "             no_sequences = 100000,  # take basically all sequences\n",
    "             pca_components=40)\n"
   ]
  },
  {
   "cell_type": "code",
   "execution_count": null,
   "metadata": {},
   "outputs": [],
   "source": [
    "sequencing_report = Data.init_sequencing_report\n",
    "sequencing_report[\"v_gene\"] = sequencing_report['allVHitsWithScore'].str.split('*').str[0]\n",
    "experiments = sequencing_report[\"Experiment\"].unique().tolist()\n",
    "v_family = sequencing_report[\"v_gene\"].tolist()\n",
    "sequencing_report[\"full_seq\"] = Data.full_sequences\n",
    "print(f\"No. of sequences in report: {sequencing_report.shape[0]}\")"
   ]
  },
  {
   "cell_type": "code",
   "execution_count": null,
   "metadata": {},
   "outputs": [],
   "source": [
    "training_data = pd.read_csv(r'c:\\Users\\nilsh\\OneDrive\\Desktop\\master_thesis\\train_model\\concatenatednanobody_full_train.csv.gz', compression='gzip')\n",
    "sequences = training_data.iloc[:, 0]\n",
    "sequences = sequences.str.replace(' ', '')\n",
    "print(f\"No. of training sequences: {training_data.shape[0]}\")\n"
   ]
  },
  {
   "cell_type": "code",
   "execution_count": null,
   "metadata": {},
   "outputs": [],
   "source": [
    "mask = sequencing_report['full_seq'].isin(sequences)\n",
    "\n",
    "# Step 4: Filter the DataFrame\n",
    "sequencing_report = sequencing_report[~mask]\n",
    "print(f\"No. of sequences in report after filtering training sequences: {sequencing_report.shape[0]}\")"
   ]
  },
  {
   "cell_type": "markdown",
   "metadata": {},
   "source": [
    "### Perplexity Analysis\n",
    "\n",
    "The goal is to find a metric which captures how decisive or confused the model is. We will use perplexity for this which is 2 ** Entropy.\n",
    "The highest entropy for this task is 20. That means that each amino acid per position can appear with equal probability which is very bad.\n",
    "\n",
    "Cons of this metric:\n",
    "- not good for final evaluation, since it just measures the model's confidence not its accuracy\n",
    "- A model with a lower perplexity can still be worse because it can just be very decisive but then in the clsutering would kinda fail to represent the sequences meaningfully.\n",
    "\n",
    "-> your model does not output logits, so it does not really make sense to do that"
   ]
  },
  {
   "cell_type": "code",
   "execution_count": null,
   "metadata": {},
   "outputs": [],
   "source": [
    "import matplotlib.pyplot as plt\n",
    "import numpy as np\n",
    "\n",
    "def plot_perplexity(perplexities):\n",
    "    mean_perplexity = np.mean(perplexities)\n",
    "    median_perplexity = np.median(perplexities)\n",
    "    std_dev = np.std(perplexities)\n",
    "\n",
    "    # Visualization\n",
    "    plt.figure(figsize=(10, 5))\n",
    "    plt.hist(perplexities, bins=30, alpha=0.7, color='blue', label='Perplexity')\n",
    "    plt.axvline(mean_perplexity, color='r', linestyle='dashed', linewidth=1, label=f'Mean: {mean_perplexity:.2f}')\n",
    "    plt.axvline(median_perplexity, color='g', linestyle='dashed', linewidth=1, label=f'Median: {median_perplexity:.2f}')\n",
    "    plt.title('Distribution of Perplexity Scores')\n",
    "    plt.xlabel('Perplexity')\n",
    "    plt.ylabel('Frequency')\n",
    "    plt.legend()\n",
    "    plt.show()"
   ]
  },
  {
   "cell_type": "code",
   "execution_count": null,
   "metadata": {},
   "outputs": [],
   "source": [
    "from seqlp.visualize.load_model import LoadModel\n",
    "\n",
    "NanobodyModel = LoadModel(r\"C:\\Users\\nilsh\\my_projects\\ExpoSeq\\models\\nanobody_full\")\n",
    "sequences = sequencing_report[\"full_seq\"].tolist()\n",
    "perplexities = []\n",
    "for sequence in sequences:\n",
    "    perplexity = NanobodyModel._get_perplexity(sequence)\n",
    "    perplexities.append(perplexity)\n",
    "perplexities = np.array(perplexities)\n",
    "\n"
   ]
  },
  {
   "cell_type": "markdown",
   "metadata": {},
   "source": [
    "### COmpare model architectures based on no of components to reach 90%"
   ]
  },
  {
   "cell_type": "code",
   "execution_count": null,
   "metadata": {},
   "outputs": [],
   "source": [
    "sequences = pd.read_csv(r\"C:\\Users\\nilsh\\OneDrive\\Desktop\\results_thesis\\data\\training_data\\val.csv\", nrows = 100000)[\"sequence\"].tolist()\n",
    "Analyse = AnalyseModel(r\"c:\\Users\\nilsh\\OneDrive\\Desktop\\results_thesis\\models\\t6_320_lastlayer_2106_seqs\")\n",
    "n_comp_collected = []\n",
    "sequence_lengths = [100, 500, 1000, 2000, 3000, 4000, 5000, 6000, 7000, 8000, 9000, 10000]\n",
    "\n",
    "for length in sequence_lengths:\n",
    "    chunk = sequences[:length]\n",
    "    n_comp_collected.append(Analyse.no_components_for_sequences(chunk))\n",
    "    "
   ]
  },
  {
   "cell_type": "markdown",
   "metadata": {},
   "source": [
    "## Ideas for clustering\n",
    "\n",
    "- Show how model clusters nanobodies with binding data. This model should do that gradually while the others should have problems with that\n"
   ]
  },
  {
   "cell_type": "markdown",
   "metadata": {},
   "source": [
    "Analyse different layers"
   ]
  },
  {
   "cell_type": "code",
   "execution_count": null,
   "metadata": {},
   "outputs": [],
   "source": [
    "\n",
    "full_sequences, experiments = DataPipeline.wrangle_report(sequencing_report)\n",
    "import numpy as np\n",
    "full_sequences = np.array(full_sequences).reshape(-1, 12050).T\n",
    "experiments = np.array(experiments).reshape(-1, 12050).T\n",
    "\n",
    "full_sequences.shape\n",
    "\n",
    "# Create a DataFrame from the arrays\n",
    "df = pd.DataFrame({\n",
    "    \"CDR3\": sequencing_report[\"aaSeqCDR3\"],\n",
    "    'Full Sequences': full_sequences.flatten(),  # Flattening in case the array is 2D but should be 1D per column\n",
    "    'Experiments': experiments.flatten(),\n",
    "\n",
    "})\n",
    "df_filtered = df.drop_duplicates(subset = [\"CDR3\"], keep = \"last\")\n",
    "# This creates a mask that is True for rows where 'Full Sequences' does not contain 'region_not_covered'\n",
    "mask = ~df['Full Sequences'].str.contains('region_not_covered')\n",
    "\n",
    "# Apply the mask to the DataFrame to keep only the rows where the condition is True\n",
    "df_filtered = df[mask]\n",
    "\n",
    "df_filtered = df_filtered.groupby(\"Experiments\").head(200)\n",
    "df_filtered[\"Experiments\"].unique()\n",
    "experiments = df_filtered[\"Experiments\"].tolist()\n",
    "full_sequences = df_filtered[\"Full Sequences\"].tolist()\n",
    "cdr3 = df_filtered[\"CDR3\"].tolist()\n"
   ]
  },
  {
   "cell_type": "code",
   "execution_count": null,
   "metadata": {},
   "outputs": [],
   "source": [
    "cmap = plt.get_cmap('Set2')\n",
    "\n",
    "# Number of colors in Set2\n",
    "n_colors = cmap.N\n",
    "\n",
    "# Retrieve each color from the colormap\n",
    "colors = [cmap(i / float(n_colors - 1)) for i in range(n_colors)]\n",
    "color_list = [colors[0], colors[7], colors[1], colors[2], colors[3], colors[4], colors[5]]"
   ]
  },
  {
   "cell_type": "code",
   "execution_count": null,
   "metadata": {},
   "outputs": [],
   "source": [
    "color_list = [colors[0], colors[7], colors[1], colors[2], colors[3], colors[6], colors[5]]\n",
    "def sequence_label(model_path, picture_path, title_extension, sequences, labels,):\n",
    "    from transformers import RoFormerTokenizer, RoFormerModel\n",
    "    if model_path == \"alchemab/antiberta2-cssp\":\n",
    "        tokenizer = RoFormerTokenizer.from_pretrained(\"alchemab/antiberta2-cssp\")\n",
    "        model = RoFormerModel.from_pretrained(\"alchemab/antiberta2-cssp\")\n",
    "        Analyse = AnalyseModel(\"alchemab/antiberta2-cssp\", model, tokenizer )\n",
    "    else:\n",
    "        Analyse = AnalyseModel(model_path)\n",
    "    reduced_X = Analyse.embed_cluster_label(sequences, labels, explained_variance_threshold = 0.9,\n",
    "                                            size_points = 15, n_neighbors = 15, min_dist = 0.1, alpha = 0.8, \n",
    "                                            cmap = \"Set2\", title = title_extension, color_list = color_list)\n",
    "    reduced_X.to_csv(f\"{picture_path}.csv\")\n",
    "\n",
    "    Analyse.save_in_plots(f\"{picture_path}.png\")"
   ]
  },
  {
   "cell_type": "code",
   "execution_count": null,
   "metadata": {},
   "outputs": [],
   "source": [
    "sequences = nanobody_delphia_ag_filter[\"Full sequence\"].tolist()\n",
    "labels = nanobody_delphia_ag_filter[\"Ag1_modified\"].tolist()"
   ]
  },
  {
   "cell_type": "code",
   "execution_count": null,
   "metadata": {},
   "outputs": [],
   "source": [
    "sequence_label(r\"C:\\Users\\nilsh\\OneDrive\\Desktop\\results_thesis\\models\\t12_320_lastlayer_2106_seqs\", r\"C:\\Users\\nilsh\\OneDrive\\Desktop\\results_thesis\\validation_embedding\\measure_pca_little\", \n",
    "               \"6 attention layers and 320 nodes in last hidden layer\", sequences, labels)"
   ]
  },
  {
   "cell_type": "markdown",
   "metadata": {},
   "source": [
    "Prepare binding data:"
   ]
  },
  {
   "cell_type": "markdown",
   "metadata": {},
   "source": [
    "Embed specific targets"
   ]
  },
  {
   "cell_type": "markdown",
   "metadata": {},
   "source": []
  },
  {
   "cell_type": "code",
   "execution_count": null,
   "metadata": {},
   "outputs": [],
   "source": [
    "\n",
    "\n",
    "def sequence_label(model_path, picture_path, title_extension):\n",
    "    signals = nanobody_delphia_ag_filter[\"Ag1_Raw signals\"].tolist()\n",
    "    labels = nanobody_delphia_ag_filter[\"Ag1_modified\"].tolist()\n",
    "    sequences = nanobody_delphia_ag_filter[\"Full sequence\"].tolist()\n",
    "    from transformers import RoFormerTokenizer, RoFormerModel\n",
    "    if model_path == \"alchemab/antiberta2-cssp\":\n",
    "        tokenizer = RoFormerTokenizer.from_pretrained(\"alchemab/antiberta2-cssp\")\n",
    "        model = RoFormerModel.from_pretrained(\"alchemab/antiberta2-cssp\")\n",
    "        Analyse = AnalyseModel(\"alchemab/antiberta2-cssp\", model, tokenizer )\n",
    "    else:\n",
    "        Analyse = AnalyseModel(model_path)\n",
    "    reduced_X = Analyse.embed_cluster_label(sequences, labels, explained_variance_threshold = 0.9,size_points = 50, n_neighbors = 15, min_dist = 0.1, alpha = 0.8, cmap = \"Set2\", title = f\"Embedding of nanobody sequences with {title_extension}\")\n",
    "    reduced_X[\"Name VHH\"] = nanobody_delphia_ag_filter[\"Name VHH\"]\n",
    "    reduced_X.to_csv(f\"{picture_path}.csv\")\n",
    "\n",
    "    Analyse.save_in_plots(f\"{picture_path}.png\")"
   ]
  },
  {
   "cell_type": "code",
   "execution_count": null,
   "metadata": {},
   "outputs": [],
   "source": [
    "sequence_label(r\"facebook/esm2_t6_8M_UR50D\", r\"C:\\Users\\nilsh\\OneDrive\\Desktop\\results_thesis\\validation_embedding\\embedding_esm_t6_90%\", \"Esm-2b with 6 layers as baseline model\", )\n"
   ]
  },
  {
   "cell_type": "code",
   "execution_count": null,
   "metadata": {},
   "outputs": [],
   "source": [
    "sequence_label(r\"C:\\Users\\nilsh\\my_projects\\SeqLP\\tests\\test_data\\nanobody_model\", r\"C:\\Users\\nilsh\\OneDrive\\Desktop\\results_thesis\\validation_embedding\\embedding_self_trained_90%\", \"trained model\")\n"
   ]
  },
  {
   "cell_type": "code",
   "execution_count": null,
   "metadata": {},
   "outputs": [],
   "source": [
    "sequence_label(r\"alchemab/antiberta2-cssp\", r\"C:\\Users\\nilsh\\OneDrive\\Desktop\\results_thesis\\validation_embedding\\embedding_antiberta_90%\", r\"Antiberta2\")\n",
    "sequence_label(r\"facebook/esm2_t6_8M_UR50D\", r\"C:\\Users\\nilsh\\OneDrive\\Desktop\\results_thesis\\validation_embedding\\embedding_esm_t6_90%\", \"Esm-2b with 6 layers as baseline model\")\n"
   ]
  },
  {
   "cell_type": "code",
   "execution_count": null,
   "metadata": {},
   "outputs": [],
   "source": [
    "sequence_label(r\"facebook/esm2_t36_3B_UR50D\", r\"C:\\Users\\nilsh\\OneDrive\\Desktop\\results_thesis\\validation_embedding\\embedding_esm_t36_90%\", \"Esm-2b with 36 layers as baseline model\")"
   ]
  },
  {
   "cell_type": "markdown",
   "metadata": {},
   "source": [
    "Just embed whole venoms"
   ]
  },
  {
   "cell_type": "code",
   "execution_count": null,
   "metadata": {},
   "outputs": [],
   "source": [
    "nanobody_delphia = nanobody_delphia_no_ag_filter.dropna(subset=['Ag1_modified'])\n",
    "print(nanobody_delphia[\"Ag1_modified\"].unique())\n",
    "print(nanobody_delphia.shape)\n",
    "nanobody_delphia = nanobody_delphia[nanobody_delphia[\"Ag1_modified\"] != \"SVSP\"]\n",
    "nanobody_delphia = nanobody_delphia[nanobody_delphia[\"Ag1_modified\"] != \"Dv4\"]"
   ]
  },
  {
   "cell_type": "code",
   "execution_count": null,
   "metadata": {},
   "outputs": [],
   "source": [
    "cmap = plt.get_cmap('Set2')\n",
    "cmap_2 = plt.get_cmap('Set1')\n",
    "# Number of colors in Set2\n",
    "n_colors = cmap.N\n",
    "n_colors_2 = cmap_2.N\n",
    "# Retrieve each color from the colormap\n",
    "colors_2 = [cmap_2(i / float(n_colors_2 - 1)) for i in range(n_colors_2)]\n",
    "\n",
    "colors = [cmap(i / float(n_colors - 1)) for i in range(n_colors)]\n",
    "color_list = [colors_2[0], colors[5], colors_2[1], colors[2], colors[1],  colors[4], colors_2[3]]"
   ]
  },
  {
   "cell_type": "code",
   "execution_count": null,
   "metadata": {},
   "outputs": [],
   "source": [
    "model_path = r\"C:\\Users\\nilsh\\my_projects\\SeqLP\\tests\\test_data\\nanobody_model\"\n",
    "picture_path = \"all_venoms_self_trained_90%\"\n",
    "title_extension = \"Embedding of \"\n",
    "signals = nanobody_delphia[\"Ag1_Raw signals\"].tolist()\n",
    "labels = nanobody_delphia[\"Ag1_modified\"].tolist()\n",
    "sequences = nanobody_delphia[\"Full sequence\"].tolist()\n",
    "from transformers import RoFormerTokenizer, RoFormerModel\n",
    "if model_path == \"alchemab/antiberta2-cssp\":\n",
    "    tokenizer = RoFormerTokenizer.from_pretrained(\"alchemab/antiberta2-cssp\")\n",
    "    model = RoFormerModel.from_pretrained(\"alchemab/antiberta2-cssp\")\n",
    "    Analyse = AnalyseModel(\"alchemab/antiberta2-cssp\", model, tokenizer )\n",
    "else:\n",
    "    Analyse = AnalyseModel(model_path)\n",
    "reduced_X = Analyse.embed_cluster_label(sequences, labels, explained_variance_threshold = 0.9,size_points = 35, n_neighbors = 15, min_dist = 0.1, alpha = 0.9, cmap = \"Set2\", title = f\"Embedding of nanobody sequences selected against different venoms or toxins\", color_list = color_list)\n",
    "reduced_X.to_csv(f\"{picture_path}.csv\")\n",
    "\n",
    "Analyse.save_in_plots(f\"{picture_path}.png\")"
   ]
  },
  {
   "cell_type": "code",
   "execution_count": null,
   "metadata": {},
   "outputs": [],
   "source": [
    "cmap = plt.get_cmap('Set2')\n",
    "\n",
    "# Number of colors in Set2\n",
    "n_colors = cmap.N\n",
    "\n",
    "# Retrieve each color from the colormap\n",
    "colors = [cmap(i / float(n_colors - 1)) for i in range(n_colors)]\n",
    "color_list = [colors[0], colors[7], colors[1], colors[2], colors[3], colors[4], colors[5]]\n"
   ]
  },
  {
   "cell_type": "code",
   "execution_count": null,
   "metadata": {},
   "outputs": [],
   "source": [
    "sequencing_report = pd.read_csv(r\"C:\\Users\\nilsh\\my_projects\\ExpoSeq\\my_experiments\\max_new\\sequencing_report.csv\",)\n"
   ]
  },
  {
   "cell_type": "code",
   "execution_count": null,
   "metadata": {},
   "outputs": [],
   "source": [
    "# Create a DataFrame from the arrays\n",
    "df = pd.DataFrame({\n",
    "    \"CDR3\": sequencing_report[\"aaSeqCDR3\"],\n",
    "    'Full Sequences': full_sequences.flatten(),  # Flattening in case the array is 2D but should be 1D per column\n",
    "    'Experiments': experiments.flatten(),\n",
    "\n",
    "})\n",
    "df_filtered = df.drop_duplicates(subset = [\"CDR3\"], keep = \"last\")\n",
    "# This creates a mask that is True for rows where 'Full Sequences' does not contain 'region_not_covered'\n",
    "mask = ~df['Full Sequences'].str.contains('region_not_covered')\n",
    "\n",
    "# Apply the mask to the DataFrame to keep only the rows where the condition is True\n",
    "df_filtered = df[mask]\n"
   ]
  },
  {
   "cell_type": "code",
   "execution_count": null,
   "metadata": {},
   "outputs": [],
   "source": [
    "df_filtered = df_filtered.groupby(\"Experiments\").head(200)\n",
    "df_filtered[\"Experiments\"].unique()\n",
    "experiments = df_filtered[\"Experiments\"].tolist()\n",
    "full_sequences = df_filtered[\"Full Sequences\"].tolist()\n",
    "cdr3 = df_filtered[\"CDR3\"].tolist()\n",
    "\n"
   ]
  },
  {
   "cell_type": "code",
   "execution_count": null,
   "metadata": {},
   "outputs": [],
   "source": [
    "\n",
    "color_list = [colors[0], colors[7], colors[1], colors[2], colors[3], colors[6], colors[5]]\n",
    "def sequence_label(model_path, picture_path, title_extension, sequences, labels,):\n",
    "    from transformers import RoFormerTokenizer, RoFormerModel\n",
    "    if model_path == \"alchemab/antiberta2-cssp\":\n",
    "        tokenizer = RoFormerTokenizer.from_pretrained(\"alchemab/antiberta2-cssp\")\n",
    "        model = RoFormerModel.from_pretrained(\"alchemab/antiberta2-cssp\")\n",
    "        Analyse = AnalyseModel(\"alchemab/antiberta2-cssp\", model, tokenizer )\n",
    "    else:\n",
    "        Analyse = AnalyseModel(model_path)\n",
    "    reduced_X = Analyse.embed_cluster_label(sequences, labels, explained_variance_threshold = 0.9,\n",
    "                                            size_points = 15, n_neighbors = 15, min_dist = 0.1, alpha = 0.8, \n",
    "                                            cmap = \"Set3\", title = f\"Embedding of CDR3 sequences with {title_extension}\", color_list = color_list)\n",
    "    reduced_X.to_csv(f\"{picture_path}.csv\")\n",
    "\n",
    "    Analyse.save_in_plots(f\"{picture_path}.png\")"
   ]
  },
  {
   "cell_type": "code",
   "execution_count": null,
   "metadata": {},
   "outputs": [],
   "source": [
    "\n",
    "\n",
    "sequence_label(r\"facebook/esm2_t6_8M_UR50D\", r\"C:\\Users\\nilsh\\OneDrive\\Desktop\\results_thesis\\validation_embedding\\embedding_baseline_max_data_cdr3\", \n",
    "               \"Esm-2b with 6 layers as baseline model\", cdr3, experiments)\n"
   ]
  },
  {
   "cell_type": "code",
   "execution_count": null,
   "metadata": {},
   "outputs": [],
   "source": [
    "sequence_label(r\"C:\\Users\\nilsh\\my_projects\\SeqLP\\tests\\test_data\\nanobody_model\", r\"C:\\Users\\nilsh\\OneDrive\\Desktop\\results_thesis\\validation_embedding\\embedding_nanobody_model_max_data_cdr3\", \n",
    "               \"trained model\", cdr3, experiments)"
   ]
  },
  {
   "cell_type": "code",
   "execution_count": null,
   "metadata": {},
   "outputs": [],
   "source": [
    "from Bio.Seq import Seq\n",
    "def translate_nucleotide_to_amino_acid(nucleotide_sequence):\n",
    "    seq = Seq(nucleotide_sequence)\n",
    "    return str(seq.translate())    \n",
    "\n",
    "\n",
    "model_path = r\"alchemab/antiberta2-cssp\"\n",
    "name_data = \"embedding_antiberta_non_binding\"\n",
    "nanobody_delphia = pd.read_excel(r\"C:\\Users\\nilsh\\my_projects\\SeqLP\\jupyter_scripts\\antibody_tidied.xlsx\")\n",
    "consensus_binding = nanobody_delphia[nanobody_delphia[\"Ag1\"] == \"scNTX\"]\n",
    "sequences = consensus_binding[\"Full sequence\"].tolist()\n",
    "signals = consensus_binding[\"Ag1_Raw signals\"].tolist()\n",
    "faqs_data = pd.read_csv(r\"C:\\Users\\nilsh\\my_projects\\ExpoSeq\\my_experiments\\max_new\\sequencing_report.csv\")\n",
    "faqs_data = faqs_data.groupby(\"Experiment\").head(200)\n",
    "binder_unlabeled = faqs_data[faqs_data[\"Experiment\"] == \"cLNTX_bind\"]\n",
    "non_binder = faqs_data[faqs_data[\"Experiment\"] == \"cLNTX_non-bind\"]\n",
    "seq_binder = non_binder[\"targetSequences\"].apply(translate_nucleotide_to_amino_acid).tolist()\n",
    "seq_non_binder = non_binder[\"targetSequences\"].apply(translate_nucleotide_to_amino_acid).tolist()\n",
    "binding_values_non_binder = len(seq_non_binder) * [0]\n",
    "binding_values_binder = len(seq_binder) * [0]\n",
    "all_binding =  binding_values_binder +binding_values_non_binder + signals\n",
    "all_sequences =  seq_binder + seq_non_binder + sequences\n",
    "labels =  len(seq_binder) * [\"cLNTX binder\"] + len(binding_values_non_binder) * [\"Non Binder\"] + len(signals) * [\"cLNTX binder\"]\n",
    "\n",
    "from transformers import RoFormerTokenizer, RoFormerModel\n",
    "if model_path == \"alchemab/antiberta2-cssp\":\n",
    "    tokenizer = RoFormerTokenizer.from_pretrained(\"alchemab/antiberta2-cssp\")\n",
    "    model = RoFormerModel.from_pretrained(\"alchemab/antiberta2-cssp\")\n",
    "    Analyse = AnalyseModel(\"alchemab/antiberta2-cssp\", model, tokenizer )\n",
    "else:\n",
    "    Analyse = AnalyseModel(model_path)\n",
    "reduced_X = Analyse.embed_cluster_sequences(all_sequences, labels, all_binding, explained_variance_threshold = 0.9, n_neighbors = 15, min_dist = 0.1, alpha = 0.8, cmap = \"inferno\", title = \"Embedding of nanobody sequences with Antiberta 2.\")\n",
    "#reduced_X.to_csv(f\"{name_data}.csv\")\n",
    "\n",
    "Analyse.save_in_plots(f\"{name_data}.png\")"
   ]
  },
  {
   "cell_type": "markdown",
   "metadata": {},
   "source": [
    "Validate with binding data\n"
   ]
  },
  {
   "cell_type": "code",
   "execution_count": null,
   "metadata": {},
   "outputs": [],
   "source": [
    "full_sequences, experiments = DataPipeline.wrangle_report(sequencing_report)\n",
    "import numpy as np\n",
    "full_sequences = np.array(full_sequences).reshape(-1, 12050).T\n",
    "experiments = np.array(experiments).reshape(-1, 12050).T\n",
    "\n",
    "full_sequences.shape\n",
    "df = pd.DataFrame({\n",
    "    \"CDR3\": sequencing_report[\"aaSeqCDR3\"],\n",
    "    'Full sequence': full_sequences.flatten(),  # Flattening in case the array is 2D but should be 1D per column\n",
    "    'Experiments': experiments.flatten(),\n",
    "\n",
    "})\n",
    "df_filtered = df.drop_duplicates(subset = [\"CDR3\"], keep = \"last\")\n",
    "# This creates a mask that is True for rows where 'Full Sequences' does not contain 'region_not_covered'\n",
    "mask = ~df['Full sequence'].str.contains('region_not_covered')\n",
    "\n",
    "# Apply the mask to the DataFrame to keep only the rows where the condition is True\n",
    "df_filtered = df[mask]\n",
    "df_filtered = df_filtered.groupby(\"Experiments\").head(200)\n",
    "bind_ngs = df_filtered.merge(binding_data, on = \"Full sequence\", how = \"outer\")"
   ]
  },
  {
   "cell_type": "code",
   "execution_count": null,
   "metadata": {},
   "outputs": [],
   "source": [
    "bind_ngs.shape"
   ]
  },
  {
   "cell_type": "code",
   "execution_count": null,
   "metadata": {},
   "outputs": [],
   "source": [
    "\n",
    "full_sequences = bind_ngs[\"Full sequence\"].tolist()\n",
    "bind_ngs = bind_ngs.fillna(0)\n",
    "signals = bind_ngs[[\"⍺-BuTx\", \"aCBTX\"]]\n",
    "aCBTX = bind_ngs[\"aCBTX\"].tolist()\n",
    "\n"
   ]
  },
  {
   "cell_type": "code",
   "execution_count": null,
   "metadata": {},
   "outputs": [],
   "source": [
    "bind_ngs[\"Experiments\"].unique()\n"
   ]
  },
  {
   "cell_type": "code",
   "execution_count": null,
   "metadata": {},
   "outputs": [],
   "source": [
    "bind_ngs.loc[bind_ngs['aCBTX'] > 10000, 'Experiments'] = 'aCBTX_binder'\n",
    "bind_ngs.loc[bind_ngs['⍺-BuTx'] > 10000, 'Experiments'] = 'aBGTx_binder'\n",
    "bind_ngs = bind_ngs.loc[bind_ngs['Experiments'] != 0]"
   ]
  },
  {
   "cell_type": "code",
   "execution_count": null,
   "metadata": {},
   "outputs": [],
   "source": [
    "bind_ngs[\"Experiments\"].unique()"
   ]
  },
  {
   "cell_type": "code",
   "execution_count": null,
   "metadata": {},
   "outputs": [],
   "source": [
    "labels = bind_ngs[\"Experiments\"].tolist()\n",
    "full_sequences = bind_ngs[\"Full sequence\"].str.slice(0, 115).tolist()"
   ]
  },
  {
   "cell_type": "code",
   "execution_count": null,
   "metadata": {},
   "outputs": [],
   "source": [
    "model_path = r\"C:\\Users\\nilsh\\my_projects\\SeqLP\\tests\\test_data\\nanobody_model\"\n",
    "name_data = \"aCBTX_max_data\"\n",
    "from transformers import RoFormerTokenizer, RoFormerModel\n",
    "if model_path == \"alchemab/antiberta2-cssp\":\n",
    "    tokenizer = RoFormerTokenizer.from_pretrained(\"alchemab/antiberta2-cssp\")\n",
    "    model = RoFormerModel.from_pretrained(\"alchemab/antiberta2-cssp\")\n",
    "    Analyse = AnalyseModel(\"alchemab/antiberta2-cssp\", model, tokenizer )\n",
    "else:\n",
    "    Analyse = AnalyseModel(model_path)\n",
    "reduced_X = Analyse.embed_cluster_label(full_sequences, labels, explained_variance_threshold = 0.9,\n",
    "                                        size_points = 15, n_neighbors = 15, min_dist = 0.1, alpha = 0.8, \n",
    "                                        cmap = \"tab10\", title = f\"Embedding of NGS sequences with identified binders against aBTX and aCBTX\")\n",
    "#reduced_X.to_csv(f\"{name_data}.csv\")\n",
    "\n",
    "Analyse.save_in_plots(f\"{name_data}.png\")"
   ]
  },
  {
   "cell_type": "markdown",
   "metadata": {},
   "source": [
    "## Time Measurements\n"
   ]
  },
  {
   "cell_type": "code",
   "execution_count": null,
   "metadata": {},
   "outputs": [],
   "source": [
    "\n",
    "def time_process(model_path, no_sequences = 1000, region_name = None):\n",
    "    start_time = time.time()\n",
    "    faqs_data = pd.read_csv(r\"C:\\Users\\nilsh\\my_projects\\ExpoSeq\\my_experiments\\max_new\\sequencing_report.csv\").head(no_sequences)\n",
    "    if region_name != None:\n",
    "        sequences = faqs_data[region_name].tolist()\n",
    "    else:\n",
    "        sequences = faqs_data[\"targetSequences\"].apply(translate_nucleotide_to_amino_acid).tolist()\n",
    "    from transformers import RoFormerTokenizer, RoFormerModel\n",
    "    if model_path == \"alchemab/antiberta2-cssp\":\n",
    "        tokenizer = RoFormerTokenizer.from_pretrained(\"alchemab/antiberta2-cssp\")\n",
    "        model = RoFormerModel.from_pretrained(\"alchemab/antiberta2-cssp\")\n",
    "        Analyse = AnalyseModel(\"alchemab/antiberta2-cssp\", model, tokenizer )\n",
    "    else:\n",
    "        Analyse = AnalyseModel(model_path)\n",
    "    X = Analyse.ModelSets._get_embeddings_parallel(sequences, )\n",
    "    end_time = time.time()\n",
    "\n",
    "    elapsed_time = end_time - start_time\n",
    "    return elapsed_time"
   ]
  },
  {
   "cell_type": "code",
   "execution_count": null,
   "metadata": {},
   "outputs": [],
   "source": [
    "time_process(r\"C:\\Users\\nilsh\\my_projects\\SeqLP\\tests\\test_data\\nanobody_model\", 1000, region_name = None )"
   ]
  },
  {
   "cell_type": "code",
   "execution_count": null,
   "metadata": {},
   "outputs": [],
   "source": [
    "elapsed_time = time_process(r\"C:\\Users\\nilsh\\my_projects\\SeqLP\\tests\\test_data\\nanobody_model\", 1000, region_name = None )"
   ]
  },
  {
   "cell_type": "code",
   "execution_count": null,
   "metadata": {},
   "outputs": [],
   "source": [
    "models = [\"alchemab/antiberta2-cssp\", r\"C:\\Users\\nilsh\\my_projects\\SeqLP\\tests\\test_data\\nanobody_model\", r\"facebook/esm2_t6_8M_UR50D\", r\"facebook/esm2_t30_150M_UR50D\"]\n",
    "no_seq = 1000\n",
    "all_times = []\n",
    "region = None\n",
    "folds = 5\n",
    "for model in models:\n",
    "    fold_model = []\n",
    "    for fold in range(folds):\n",
    "        elapsed_time = time_process(model, no_seq, region_name = None )\n",
    "        fold_model.append(elapsed_time)\n",
    "    all_times.append(fold_model)\n",
    "\n",
    "means = [np.mean(sample_data) for sample_data in all_times]\n",
    "std_devs = [np.std(sample_data) for sample_data in all_times]\n",
    "\n",
    "names = [\"Antiberta2\", \"Self-trained model\", \"Esm-2b with 6 layers\", \"Esm-2b with 30 layers\"]\n",
    "assert len(names) == len(models), \"The number of models and names must be the same\"\n",
    "Analyse = AnalyseModel(r\"C:\\Users\\nilsh\\my_projects\\SeqLP\\tests\\test_data\\nanobody_model\")\n",
    "Analyse.make_figure()\n",
    "Analyse.ax.bar(names, means, yerr = std_devs, capsize = 5, color = \"skyblue\", alpha = 0.7)\n",
    "Analyse.update_plot()\n",
    "Analyse.ax.set_ylabel(\"Time in seconds\", **Analyse.font_settings)\n",
    "Analyse.ax.set_xlabel(\"Model\",  **Analyse.font_settings)\n",
    "Analyse.ax.set_title(\"Computing time for embedding of 1000 sequences\", pad = 20, **Analyse.font_settings)\n",
    "Analyse.save_in_plots(\"time_comparison.png\")\n"
   ]
  },
  {
   "cell_type": "code",
   "execution_count": null,
   "metadata": {},
   "outputs": [],
   "source": [
    "import numpy as np\n",
    "means = [np.mean(sample_data) for sample_data in all_times]\n",
    "std_devs = [np.std(sample_data) for sample_data in all_times]\n",
    "print(np.mean([\n",
    "    125.92300152778625, 125.60665917396545, 124.9071409702301, 125.5185558795929]))\n",
    "print(np.std([125.92300152778625, 125.60665917396545, 124.9071409702301, 125.5185558795929]))"
   ]
  },
  {
   "cell_type": "markdown",
   "metadata": {},
   "source": [
    "### Calculating Perplexity"
   ]
  },
  {
   "cell_type": "code",
   "execution_count": null,
   "metadata": {},
   "outputs": [],
   "source": []
  },
  {
   "cell_type": "code",
   "execution_count": null,
   "metadata": {},
   "outputs": [],
   "source": [
    "\n",
    "model_path = r\"C:\\Users\\nilsh\\my_projects\\SeqLP\\tests\\test_data\\nanobody_model\"\n",
    "if model_path == \"alchemab/antiberta2-cssp\":\n",
    "    from transformers import RoFormerTokenizer, RoFormerForMaskedLM\n",
    "    tokenizer = RoFormerTokenizer.from_pretrained(\"alchemab/antiberta2-cssp\")\n",
    "    model = RoFormerForMaskedLM.from_pretrained(\"alchemab/antiberta2-cssp\")\n",
    "    Analyse = AnalyseModel(\"alchemab/antiberta2-cssp\", model, tokenizer )     \n",
    "else:\n",
    "    Analyse = AnalyseModel(model_path, load_masked_lm=True)\n",
    "sequences = pd.read_csv(r\"C:\\Users\\nilsh\\OneDrive\\Desktop\\results_thesis\\data\\training_data\\val.csv\", nrows = 10000)[\"sequence\"].tolist()\n",
    "all_seqs = []\n",
    "for seq in sequences:\n",
    "    if len(seq) < 240: # there are some sequence lengths in the data that dont make sense in the context of nanobodies. 240 because there are spaces in between each tokens\n",
    "        pass\n",
    "    else:\n",
    "        all_seqs.append(seq)\n",
    "    if len(all_seqs) == 1000:\n",
    "        break\n",
    "ppl = Analyse.calculate_perplexity(all_seqs)\n",
    "print(ppl)\n"
   ]
  },
  {
   "cell_type": "code",
   "execution_count": null,
   "metadata": {},
   "outputs": [],
   "source": [
    "model_path =  r\"facebook/esm2_t6_8M_UR50D\"\n",
    "if model_path == \"alchemab/antiberta2-cssp\":\n",
    "    from transformers import RoFormerTokenizer, RoFormerForMaskedLM\n",
    "    tokenizer = RoFormerTokenizer.from_pretrained(\"alchemab/antiberta2-cssp\")\n",
    "    model = RoFormerForMaskedLM.from_pretrained(\"alchemab/antiberta2-cssp\")\n",
    "    Analyse = AnalyseModel(\"alchemab/antiberta2-cssp\", model, tokenizer )     \n",
    "else:\n",
    "    Analyse = AnalyseModel(model_path, load_masked_lm=True)\n",
    "sequences = pd.read_csv(r\"C:\\Users\\nilsh\\OneDrive\\Desktop\\results_thesis\\data\\training_data\\val.csv\", nrows = 1000)[\"sequence\"].tolist()\n",
    "all_seqs = []\n",
    "for seq in sequences:\n",
    "    if len(seq) < 240:\n",
    "        pass\n",
    "    else:\n",
    "        all_seqs.append(seq)\n",
    "    if len(all_seqs) == 1000:\n",
    "        break\n",
    "ppl = Analyse.calculate_perplexity(all_seqs)\n",
    "print(ppl)"
   ]
  },
  {
   "cell_type": "markdown",
   "metadata": {},
   "source": [
    " The model with lower perplexity might be heavily optimized towards predicting the next amino acid accurately, focusing narrowly on features that are directly predictive of the next outcome. This can lead to a situation where the embeddings, while effective for prediction, may not capture broader or more nuanced relationships between different types of amino acids.\n",
    "\n",
    " A reason for this can be that the model cannot distinguish between the cdr and other regions"
   ]
  },
  {
   "cell_type": "code",
   "execution_count": null,
   "metadata": {},
   "outputs": [],
   "source": [
    "model_path =  r\"alchemab/antiberta2\"\n",
    "if model_path == \"alchemab/antiberta2\":\n",
    "    from transformers import RoFormerTokenizer, RoFormerForMaskedLM\n",
    "    tokenizer = RoFormerTokenizer.from_pretrained(\"alchemab/antiberta2\")\n",
    "    model = RoFormerForMaskedLM.from_pretrained(\"alchemab/antiberta2\")\n",
    "    Analyse = AnalyseModel(\"alchemab/antiberta2\", model, tokenizer )     \n",
    "else:\n",
    "    Analyse = AnalyseModel(model_path, load_masked_lm=True)\n",
    "sequences = pd.read_csv(r\"C:\\Users\\nilsh\\OneDrive\\Desktop\\results_thesis\\data\\training_data\\val.csv\", nrows = 1000)[\"sequence\"].tolist()\n",
    "all_seqs = []\n",
    "for seq in sequences:\n",
    "    if len(seq) < 240:\n",
    "        pass\n",
    "    else:\n",
    "        all_seqs.append(seq)\n",
    "    if len(all_seqs) == 1000:\n",
    "        break\n",
    "ppl = Analyse.calculate_perplexity(all_seqs, pad_token_id=0) # token id is 0, https://huggingface.co/alchemab/antiberta2/blob/main/vocab.txt\n",
    "print(ppl)"
   ]
  },
  {
   "cell_type": "code",
   "execution_count": null,
   "metadata": {},
   "outputs": [],
   "source": [
    "model_path =  r\"facebook/esm2_t30_150M_UR50D\"\n",
    "if model_path == \"alchemab/antiberta2\":\n",
    "    from transformers import RoFormerTokenizer, RoFormerForMaskedLM\n",
    "    tokenizer = RoFormerTokenizer.from_pretrained(\"alchemab/antiberta2\")\n",
    "    model = RoFormerForMaskedLM.from_pretrained(\"alchemab/antiberta2\")\n",
    "    Analyse = AnalyseModel(\"alchemab/antiberta2\", model, tokenizer )     \n",
    "else:\n",
    "    Analyse = AnalyseModel(model_path, load_masked_lm=True)\n",
    "sequences = pd.read_csv(r\"C:\\Users\\nilsh\\OneDrive\\Desktop\\results_thesis\\data\\training_data\\val.csv\", nrows = 1000)[\"sequence\"].tolist()\n",
    "all_seqs = []\n",
    "for seq in sequences:\n",
    "    if len(seq) < 240:\n",
    "        pass\n",
    "    else:\n",
    "        all_seqs.append(seq)\n",
    "    if len(all_seqs) == 1000:\n",
    "        break\n",
    "ppl = Analyse.calculate_perplexity(all_seqs) # token id is 0, https://huggingface.co/alchemab/antiberta2/blob/main/vocab.txt\n",
    "print(ppl)"
   ]
  },
  {
   "cell_type": "markdown",
   "metadata": {},
   "source": [
    "## Check CDR3 positional importance"
   ]
  },
  {
   "cell_type": "code",
   "execution_count": null,
   "metadata": {},
   "outputs": [],
   "source": [
    "nanobody_delphia.head(10)"
   ]
  },
  {
   "cell_type": "code",
   "execution_count": null,
   "metadata": {},
   "outputs": [],
   "source": [
    "import pandas as pd \n",
    "\n",
    "nanobody_delphia = pd.read_excel(r\"C:\\Users\\nilsh\\OneDrive\\Desktop\\results_thesis\\data\\nanobody_delphia_tidied.xlsx\")\n",
    "nanobody_delphia = nanobody_delphia.dropna(subset=['CDR3', 'Full sequence'])\n",
    "\n",
    "\n",
    "def pad_sequence(subseq, fullseq):\n",
    "    start_index = fullseq.find(subseq)\n",
    "    if start_index == -1:\n",
    "        # If subsequence not found, return padded version of the full sequence\n",
    "        return \"\"\n",
    "    \n",
    "    # Create a list of <PAD> for each character in full sequence\n",
    "    padded_sequence = ['<pad>' for _ in fullseq]\n",
    "    \n",
    "    # Replace the <PAD> tokens with the subsequence at the correct position\n",
    "    for i in range(len(subseq)):\n",
    "        padded_sequence[start_index + i] = subseq[i]\n",
    "    \n",
    "    # Join the sequence with space\n",
    "    return ' '.join(padded_sequence)\n",
    "\n",
    "# Apply the function to each row in DataFrame\n",
    "sequencing_report = pd.read_csv(r\"C:\\Users\\nilsh\\my_projects\\ExpoSeq\\my_experiments\\max_new\\sequencing_report.csv\",)\n",
    "mask = ~sequencing_report['targetSequences'].str.contains('region_not_covered')\n",
    "\n",
    "# Apply the mask to the DataFrame to keep only the rows where the condition is True\n",
    "sequencing_report = sequencing_report[mask]\n",
    "sequencing_report[\"full_seq\"] = sequencing_report[\"targetSequences\"].apply(translate_nucleotide_to_amino_acid)\n",
    "sequencing_report[\"padded_sequence\"] = sequencing_report.apply(lambda x: pad_sequence(x['aaSeqCDR3'], x['full_seq']), axis=1)\n",
    "mask = sequencing_report['padded_sequence'].str.len() > 0\n",
    "report = sequencing_report[mask]\n",
    "\n",
    "#nanobody_delphia['PaddedSequence'] = nanobody_delphia.apply(lambda x: pad_sequence(x['CDR3'], x['Full sequence']), axis=1)"
   ]
  },
  {
   "cell_type": "code",
   "execution_count": null,
   "metadata": {},
   "outputs": [],
   "source": [
    "sequencing_report[\"padded_sequence\"][0]"
   ]
  },
  {
   "cell_type": "code",
   "execution_count": null,
   "metadata": {},
   "outputs": [],
   "source": [
    "report = report.groupby(\"Experiment\").head(200)\n",
    "padded_sequences = report[\"padded_sequence\"].tolist()\n",
    "labels = report[\"Experiment\"].tolist()\n"
   ]
  },
  {
   "cell_type": "code",
   "execution_count": null,
   "metadata": {},
   "outputs": [],
   "source": [
    "unpadded_sequences = report[\"aaSeqCDR3\"].tolist()"
   ]
  },
  {
   "cell_type": "code",
   "execution_count": null,
   "metadata": {},
   "outputs": [],
   "source": [
    "picture_path = \"unpadded_cdr3_faqs_data_25n\"\n",
    "title_extension = \"specifically trained model\"\n",
    "model_path = r\"C:\\Users\\nilsh\\my_projects\\SeqLP\\tests\\test_data\\nanobody_model\"\n",
    "Analyse = AnalyseModel(model_path)\n",
    "reduced_X = Analyse.embed_cluster_label(unpadded_sequences, labels, explained_variance_threshold = 0.9, n_neighbors = 25, min_dist = 0.1, alpha = 0.8, cmap = \"Set2\", title = f\"Unpadded CDR3 sequences with n = 25\", color_list = color_list)\n",
    "reduced_X.to_csv(f\"{picture_path}.csv\")\n",
    "Analyse.save_in_plots(f\"{picture_path}.png\")"
   ]
  },
  {
   "cell_type": "code",
   "execution_count": null,
   "metadata": {},
   "outputs": [],
   "source": [
    "print(nanobody_delphia.shape[0])\n",
    "nanobody_delphia[\"Ag1_modified\"].unique()"
   ]
  },
  {
   "cell_type": "code",
   "execution_count": null,
   "metadata": {},
   "outputs": [],
   "source": [
    "padded_sequences = nanobody_delphia[\"PaddedSequence\"].tolist()\n",
    "labels = nanobody_delphia[\"Ag1_modified\"].tolist()\n"
   ]
  },
  {
   "cell_type": "code",
   "execution_count": null,
   "metadata": {},
   "outputs": [],
   "source": [
    "picture_path = \"position_cdr_importance\"\n",
    "title_extension = \"specifically trained model\"\n",
    "model_path = r\"C:\\Users\\nilsh\\my_projects\\SeqLP\\tests\\test_data\\nanobody_model\"\n",
    "Analyse = AnalyseModel(model_path)\n",
    "reduced_X = Analyse.embed_cluster_label(padded_sequences, labels, explained_variance_threshold = 0.9, n_neighbors = 15, min_dist = 0.1, alpha = 0.8, cmap = \"Set2\", title = f\"Embedding of position specific padded CDR3 sequences.\")\n",
    "reduced_X.to_csv(f\"{picture_path}.csv\")\n",
    "\n",
    "Analyse.save_in_plots(f\"{picture_path}.png\")"
   ]
  },
  {
   "cell_type": "code",
   "execution_count": null,
   "metadata": {},
   "outputs": [],
   "source": [
    "Analyse = AnalyseModel(r\"C:\\Users\\nilsh\\my_projects\\SeqLP\\tests\\test_data\\nanobody_model\", load_masked_lm=True)\n",
    "ppl = Analyse.calculate_perplexity(padded_sequences)\n",
    "print(ppl)"
   ]
  },
  {
   "cell_type": "code",
   "execution_count": null,
   "metadata": {},
   "outputs": [],
   "source": [
    "picture_path = \"position_cdr_dumped\"\n",
    "title_extension = \"specifically trained model\"\n",
    "unpadded_sequences = nanobody_delphia[\"CDR3\"].tolist()\n",
    "model_path = r\"C:\\Users\\nilsh\\my_projects\\SeqLP\\tests\\test_data\\nanobody_model\"\n",
    "Analyse = AnalyseModel(model_path)\n",
    "reduced_X = Analyse.embed_cluster_label(unpadded_sequences, labels, explained_variance_threshold = 0.9, n_neighbors = 15, min_dist = 0.1, alpha = 0.8, cmap = \"Set2\", title = f\"Embedding of unpadded CDR3 sequences with {title_extension}\")\n",
    "reduced_X.to_csv(f\"{picture_path}.csv\")\n",
    "\n",
    "Analyse.save_in_plots(f\"{picture_path}.png\")"
   ]
  },
  {
   "cell_type": "code",
   "execution_count": null,
   "metadata": {},
   "outputs": [],
   "source": [
    "unpadded_sequences = faqs_data[\"aaSeqCDR3\"].tolist()\n",
    "\n"
   ]
  },
  {
   "cell_type": "code",
   "execution_count": null,
   "metadata": {},
   "outputs": [],
   "source": [
    "Analyse = AnalyseModel(r\"C:\\Users\\nilsh\\my_projects\\SeqLP\\tests\\test_data\\nanobody_model\", load_masked_lm=True)\n",
    "ppl = Analyse.calculate_perplexity(unpadded_sequences)\n",
    "print(ppl)"
   ]
  },
  {
   "cell_type": "markdown",
   "metadata": {},
   "source": [
    "### All complementary regions but no framework regions"
   ]
  },
  {
   "cell_type": "code",
   "execution_count": null,
   "metadata": {},
   "outputs": [],
   "source": [
    "import pandas as pd\n",
    "\n",
    "# Load the data\n",
    "nanobody_delphia = pd.read_excel(r\"C:\\Users\\nilsh\\OneDrive\\Desktop\\results_thesis\\data\\nanobody_delphia_tidied.xlsx\")\n",
    "nanobody_delphia = nanobody_delphia.dropna(subset=['CDR1', 'CDR2', 'CDR3', 'Full sequence'])  \n",
    "\n",
    "def pad_multiple_sequences(fullseq, *subseqs):\n",
    "    # Create a list of <PAD> for each character in full sequence\n",
    "    padded_sequence = ['<pad>' for _ in range(len(fullseq))]\n",
    "    \n",
    "    # Process each subsequence\n",
    "    for subseq in subseqs:\n",
    "        start_index = fullseq.find(subseq)\n",
    "        if start_index != -1:\n",
    "            # Replace the <PAD> tokens with the subsequence at the correct position\n",
    "            for i in range(len(subseq)):\n",
    "                padded_sequence[start_index + i] = subseq[i]\n",
    "\n",
    "    # Join the sequence with space\n",
    "    return ' '.join(padded_sequence)\n",
    "\n",
    "# Apply the function to each row in DataFrame to include CDR1, CDR2, CDR3\n",
    "nanobody_delphia['PaddedSequence'] = nanobody_delphia.apply(lambda x: pad_multiple_sequences(x['Full sequence'], x['Framework 1'], x['Framework 2'], x['Framework 3']), axis=1)\n",
    "\n",
    "# Example of saving or viewing the results\n",
    "print(nanobody_delphia[['Full sequence', 'PaddedSequence']].head())"
   ]
  },
  {
   "cell_type": "code",
   "execution_count": null,
   "metadata": {},
   "outputs": [],
   "source": [
    "padded_sequences = nanobody_delphia[\"PaddedSequence\"].tolist()\n",
    "labels = nanobody_delphia[\"Ag1_modified\"].tolist()\n"
   ]
  },
  {
   "cell_type": "code",
   "execution_count": null,
   "metadata": {},
   "outputs": [],
   "source": [
    "picture_path = \"position_all_fr_importance\"\n",
    "title_extension = \"specifically trained model\"\n",
    "model_path = r\"C:\\Users\\nilsh\\my_projects\\SeqLP\\tests\\test_data\\nanobody_model\"\n",
    "Analyse = AnalyseModel(model_path)\n",
    "reduced_X = Analyse.embed_cluster_label(padded_sequences, labels, explained_variance_threshold = 0.9, n_neighbors = 15, min_dist = 0.1, alpha = 0.8, cmap = \"Set2\", title = f\"Embedding of position specific padded FR1, FR2 and FR3 sequences.\")\n",
    "reduced_X.to_csv(f\"{picture_path}.csv\")\n",
    "\n",
    "Analyse.save_in_plots(f\"{picture_path}.png\")"
   ]
  },
  {
   "cell_type": "code",
   "execution_count": null,
   "metadata": {},
   "outputs": [],
   "source": []
  },
  {
   "cell_type": "markdown",
   "metadata": {},
   "source": [
    "### Make barplot with venom composition"
   ]
  },
  {
   "cell_type": "code",
   "execution_count": null,
   "metadata": {},
   "outputs": [],
   "source": [
    "venom_comp = pd.read_excel(r\"C:\\Users\\nilsh\\OneDrive\\Desktop\\results_thesis\\data\\venom_compmosition.xlsx\", index_col = 0)\n",
    "venom_comp.head(4)"
   ]
  },
  {
   "cell_type": "code",
   "execution_count": null,
   "metadata": {},
   "outputs": [],
   "source": [
    "specific_targets = venom_comp.loc[[\"Dp4\", \"Nu6\", \"Nm8\",  \"Dp8\"]]"
   ]
  },
  {
   "cell_type": "code",
   "execution_count": null,
   "metadata": {},
   "outputs": [],
   "source": [
    "import matplotlib.pyplot as plt\n",
    "\n",
    "legend_settings = {'loc': 'center left','facecolor': 'black',  'bbox_to_anchor': (1, 0.5), 'ncols': 1, 'fontsize': 16, 'frameon': True, 'framealpha': 1, 'facecolor': 'white', 'mode': None, 'title_fontsize': 'large', 'title_fontsize': 'large'}\n",
    "# Creating the stacked bar plot\n",
    "Analyse.make_figure()\n",
    "\n",
    "ax = specific_targets.plot(kind='bar', stacked=True, figsize=(10, 7), colormap= \"tab10\", alpha = 0.9, ax = Analyse.ax)\n",
    "label_settings = {'fontfamily': 'serif',\n",
    " 'fontsize': '14',\n",
    " 'fontstyle': 'normal',\n",
    " }\n",
    "# Adding labels and title\n",
    "plt.xlabel('Venom', **Analyse.font_settings_normal)\n",
    "plt.ylabel('Composition (%)', **Analyse.font_settings_normal)\n",
    "plt.title('Toxin Composition by Venom Type', **Analyse.font_settings_title)\n",
    "plt.xticks(rotation=0)\n",
    "# Show legend and plot\n",
    "plt.legend(title='Toxin Types', **legend_settings)\n",
    "Analyse.update_plot()\n",
    "Analyse.save_in_plots(\"venom_composition.png\")"
   ]
  },
  {
   "cell_type": "code",
   "execution_count": null,
   "metadata": {},
   "outputs": [],
   "source": []
  },
  {
   "cell_type": "code",
   "execution_count": null,
   "metadata": {},
   "outputs": [],
   "source": [
    "Analyse.font_settings"
   ]
  },
  {
   "cell_type": "markdown",
   "metadata": {},
   "source": [
    "### Validating with machine learning\n"
   ]
  },
  {
   "cell_type": "code",
   "execution_count": null,
   "metadata": {},
   "outputs": [],
   "source": [
    "sequencing_report[\"Experiment\"].unique()"
   ]
  },
  {
   "cell_type": "code",
   "execution_count": null,
   "metadata": {},
   "outputs": [],
   "source": [
    "\n",
    "\n",
    "Data = DataPipeline(no_sequences = 1000000)\n",
    "y = Data.init_sequencing_report['Experiment'].tolist()\n",
    "y_encoded = [0 for item in y if item == \"cLNTX_non-bind\"]\n",
    "y_encoded = [1 for item in y if item == ]\n",
    "ML = SupervisedML(Data.X, y_encoded, cv_components = 5)\n",
    "model = ML.logistic_regression()\n",
    "scores = ML.do_scikits_cv(model)\n",
    "ML.do_nn_cv()\n"
   ]
  },
  {
   "cell_type": "code",
   "execution_count": null,
   "metadata": {},
   "outputs": [],
   "source": [
    "Data = DataPipeline(no_sequences = 1000000, model = esm_small)\n",
    "y = Data.init_sequencing_report['Experiment'].tolist()\n",
    "y_encoded = [0 if item == \"cLNTX_non-bind\" else 1 for item in y]\n",
    "ML = SupervisedML(Data.X, y_encoded, cv_components = 5)\n",
    "model = ML.logistic_regression()\n",
    "scores = ML.do_scikits_cv(model)\n",
    "ML.do_nn_cv()"
   ]
  },
  {
   "cell_type": "markdown",
   "metadata": {},
   "source": [
    "three class problem: cLNTX ++ and aBGTX-+ | cLNTX +- aBGTX +- | Non bing"
   ]
  },
  {
   "cell_type": "code",
   "execution_count": 5,
   "metadata": {},
   "outputs": [
    {
     "name": "stderr",
     "output_type": "stream",
     "text": [
      "Some weights of EsmModel were not initialized from the model checkpoint at C:\\Users\\nilsh\\my_projects\\SeqLP\\tests\\test_data\\nanobody_model and are newly initialized: ['esm.pooler.dense.bias', 'esm.pooler.dense.weight']\n",
      "You should probably TRAIN this model on a down-stream task to be able to use it for predictions and inference.\n",
      "c:\\Users\\nilsh\\my_projects\\SeqLP\\src\\seqlp\\visualize\\load_model.py:237: SettingWithCopyWarning: \n",
      "A value is trying to be set on a copy of a slice from a DataFrame.\n",
      "Try using .loc[row_indexer,col_indexer] = value instead\n",
      "\n",
      "See the caveats in the documentation: https://pandas.pydata.org/pandas-docs/stable/user_guide/indexing.html#returning-a-view-versus-a-copy\n",
      "  sequencing_report[['full_sequence', 'CDRPositions']] = sequencing_report.apply(ExtractData.calculate_cdr_positions, axis=1, result_type='expand')\n",
      "c:\\Users\\nilsh\\my_projects\\SeqLP\\src\\seqlp\\visualize\\load_model.py:237: SettingWithCopyWarning: \n",
      "A value is trying to be set on a copy of a slice from a DataFrame.\n",
      "Try using .loc[row_indexer,col_indexer] = value instead\n",
      "\n",
      "See the caveats in the documentation: https://pandas.pydata.org/pandas-docs/stable/user_guide/indexing.html#returning-a-view-versus-a-copy\n",
      "  sequencing_report[['full_sequence', 'CDRPositions']] = sequencing_report.apply(ExtractData.calculate_cdr_positions, axis=1, result_type='expand')\n"
     ]
    },
    {
     "name": "stdout",
     "output_type": "stream",
     "text": [
      "Explained variance after reducing to 10 dimensions:0.9186712503433228\n"
     ]
    },
    {
     "ename": "ValueError",
     "evalue": "The number of samples in X and y should be equal",
     "output_type": "error",
     "traceback": [
      "\u001b[1;31m---------------------------------------------------------------------------\u001b[0m",
      "\u001b[1;31mValueError\u001b[0m                                Traceback (most recent call last)",
      "\u001b[1;32mc:\\Users\\nilsh\\my_projects\\SeqLP\\jupyter_scripts\\validate.ipynb Cell 96\u001b[0m line \u001b[0;36m1\n\u001b[0;32m      <a href='vscode-notebook-cell:/c%3A/Users/nilsh/my_projects/SeqLP/jupyter_scripts/validate.ipynb#Y164sZmlsZQ%3D%3D?line=6'>7</a>\u001b[0m y_encoded \u001b[39m=\u001b[39m [\u001b[39m2\u001b[39m \u001b[39mfor\u001b[39;00m item \u001b[39min\u001b[39;00m y \u001b[39mif\u001b[39;00m item \u001b[39m==\u001b[39m \u001b[39m'\u001b[39m\u001b[39mcLNTX_+-\u001b[39m\u001b[39m'\u001b[39m]\n\u001b[0;32m      <a href='vscode-notebook-cell:/c%3A/Users/nilsh/my_projects/SeqLP/jupyter_scripts/validate.ipynb#Y164sZmlsZQ%3D%3D?line=7'>8</a>\u001b[0m y_encoded \u001b[39m=\u001b[39m [\u001b[39m2\u001b[39m \u001b[39mfor\u001b[39;00m item \u001b[39min\u001b[39;00m y \u001b[39mif\u001b[39;00m item \u001b[39m==\u001b[39m \u001b[39m'\u001b[39m\u001b[39maBGTX_+-\u001b[39m\u001b[39m'\u001b[39m]\n\u001b[1;32m---> <a href='vscode-notebook-cell:/c%3A/Users/nilsh/my_projects/SeqLP/jupyter_scripts/validate.ipynb#Y164sZmlsZQ%3D%3D?line=9'>10</a>\u001b[0m ML \u001b[39m=\u001b[39m SupervisedML(Data\u001b[39m.\u001b[39;49mX, y_encoded, cv_components \u001b[39m=\u001b[39;49m \u001b[39m5\u001b[39;49m)\n\u001b[0;32m     <a href='vscode-notebook-cell:/c%3A/Users/nilsh/my_projects/SeqLP/jupyter_scripts/validate.ipynb#Y164sZmlsZQ%3D%3D?line=10'>11</a>\u001b[0m model \u001b[39m=\u001b[39m ML\u001b[39m.\u001b[39mlogistic_regression()\n\u001b[0;32m     <a href='vscode-notebook-cell:/c%3A/Users/nilsh/my_projects/SeqLP/jupyter_scripts/validate.ipynb#Y164sZmlsZQ%3D%3D?line=11'>12</a>\u001b[0m scores \u001b[39m=\u001b[39m ML\u001b[39m.\u001b[39mdo_scikits_cv(model)\n",
      "File \u001b[1;32mc:\\Users\\nilsh\\my_projects\\SeqLP\\src\\seqlp\\visualize\\supervised_ml.py:125\u001b[0m, in \u001b[0;36mSupervisedML.__init__\u001b[1;34m(self, X, y, cv_components)\u001b[0m\n\u001b[0;32m    123\u001b[0m \u001b[39mdef\u001b[39;00m \u001b[39m__init__\u001b[39m(\u001b[39mself\u001b[39m, X:np\u001b[39m.\u001b[39marray, y:\u001b[39mlist\u001b[39m, cv_components \u001b[39m=\u001b[39m \u001b[39m5\u001b[39m) \u001b[39m-\u001b[39m\u001b[39m>\u001b[39m \u001b[39mNone\u001b[39;00m:\n\u001b[0;32m    124\u001b[0m     \u001b[39mif\u001b[39;00m X\u001b[39m.\u001b[39mshape[\u001b[39m0\u001b[39m] \u001b[39m!=\u001b[39m \u001b[39mlen\u001b[39m(y):\n\u001b[1;32m--> 125\u001b[0m         \u001b[39mraise\u001b[39;00m \u001b[39mValueError\u001b[39;00m(\u001b[39m\"\u001b[39m\u001b[39mThe number of samples in X and y should be equal\u001b[39m\u001b[39m\"\u001b[39m)\n\u001b[0;32m    126\u001b[0m     indices \u001b[39m=\u001b[39m \u001b[39mself\u001b[39m\u001b[39m.\u001b[39mshuffle_data(X)\n\u001b[0;32m    127\u001b[0m     \u001b[39mself\u001b[39m\u001b[39m.\u001b[39mX \u001b[39m=\u001b[39m X[indices]\n",
      "\u001b[1;31mValueError\u001b[0m: The number of samples in X and y should be equal"
     ]
    }
   ],
   "source": [
    "chosen_columns = [\"cLNTX_non-bind\", \"cLNTX_++\", \"aBGTX_-+\", \"cLNTX_+-\", \"aBGTX_+-\"]\n",
    "Data = DataPipeline(no_sequences = 1000000, model = nanobody_model, choose_labels= chosen_columns)\n",
    "y = Data.init_sequencing_report['Experiment'].tolist()\n"
   ]
  },
  {
   "cell_type": "code",
   "execution_count": 16,
   "metadata": {},
   "outputs": [
    {
     "name": "stdout",
     "output_type": "stream",
     "text": [
      "Cross-validated scores: [0.65164761 0.65501009 0.6529926  0.67316745 0.64468371]\n",
      "Average accuracy: 0.6555002937074204\n",
      "FOLD 0\n",
      "-------------------------------\n",
      "Epoch 1\n",
      "Validation: Avg loss: 0.8985, Accuracy: 0.6543\n",
      "---------------------------------\n",
      "Epoch 2\n",
      "Validation: Avg loss: 0.8334, Accuracy: 0.7034\n",
      "---------------------------------\n",
      "Epoch 3\n",
      "Validation: Avg loss: 0.7938, Accuracy: 0.7189\n",
      "---------------------------------\n",
      "Epoch 4\n",
      "Validation: Avg loss: 0.7671, Accuracy: 0.7323\n",
      "---------------------------------\n",
      "Epoch 5\n",
      "Validation: Avg loss: 0.7475, Accuracy: 0.7424\n",
      "---------------------------------\n",
      "Epoch 6\n",
      "Validation: Avg loss: 0.7327, Accuracy: 0.7471\n",
      "---------------------------------\n",
      "Epoch 7\n",
      "Validation: Avg loss: 0.7214, Accuracy: 0.7492\n",
      "---------------------------------\n",
      "Epoch 8\n",
      "Validation: Avg loss: 0.7126, Accuracy: 0.7492\n",
      "---------------------------------\n",
      "Epoch 9\n",
      "Validation: Avg loss: 0.7055, Accuracy: 0.7485\n",
      "---------------------------------\n",
      "Epoch 10\n",
      "Validation: Avg loss: 0.6996, Accuracy: 0.7465\n",
      "---------------------------------\n",
      "FOLD 1\n",
      "-------------------------------\n",
      "Epoch 1\n",
      "Validation: Avg loss: 0.9349, Accuracy: 0.6261\n",
      "---------------------------------\n",
      "Epoch 2\n",
      "Validation: Avg loss: 0.8697, Accuracy: 0.6443\n",
      "---------------------------------\n",
      "Epoch 3\n",
      "Validation: Avg loss: 0.8346, Accuracy: 0.6658\n",
      "---------------------------------\n",
      "Epoch 4\n",
      "Validation: Avg loss: 0.8121, Accuracy: 0.6833\n",
      "---------------------------------\n",
      "Epoch 5\n",
      "Validation: Avg loss: 0.7957, Accuracy: 0.6893\n",
      "---------------------------------\n",
      "Epoch 6\n",
      "Validation: Avg loss: 0.7833, Accuracy: 0.6980\n",
      "---------------------------------\n",
      "Epoch 7\n",
      "Validation: Avg loss: 0.7736, Accuracy: 0.6974\n",
      "---------------------------------\n",
      "Epoch 8\n",
      "Validation: Avg loss: 0.7665, Accuracy: 0.7021\n",
      "---------------------------------\n",
      "Epoch 9\n",
      "Validation: Avg loss: 0.7612, Accuracy: 0.6880\n",
      "---------------------------------\n",
      "Epoch 10\n",
      "Validation: Avg loss: 0.7571, Accuracy: 0.6893\n",
      "---------------------------------\n",
      "FOLD 2\n",
      "-------------------------------\n",
      "Epoch 1\n",
      "Validation: Avg loss: 0.9337, Accuracy: 0.5757\n",
      "---------------------------------\n",
      "Epoch 2\n",
      "Validation: Avg loss: 0.8674, Accuracy: 0.6873\n",
      "---------------------------------\n",
      "Epoch 3\n",
      "Validation: Avg loss: 0.8287, Accuracy: 0.7236\n",
      "---------------------------------\n",
      "Epoch 4\n",
      "Validation: Avg loss: 0.8037, Accuracy: 0.7384\n",
      "---------------------------------\n",
      "Epoch 5\n",
      "Validation: Avg loss: 0.7855, Accuracy: 0.7492\n",
      "---------------------------------\n",
      "Epoch 6\n",
      "Validation: Avg loss: 0.7716, Accuracy: 0.7539\n",
      "---------------------------------\n",
      "Epoch 7\n",
      "Validation: Avg loss: 0.7607, Accuracy: 0.7525\n",
      "---------------------------------\n",
      "Epoch 8\n",
      "Validation: Avg loss: 0.7521, Accuracy: 0.7525\n",
      "---------------------------------\n",
      "Epoch 9\n",
      "Validation: Avg loss: 0.7452, Accuracy: 0.7525\n",
      "---------------------------------\n",
      "Epoch 10\n",
      "Validation: Avg loss: 0.7397, Accuracy: 0.7498\n",
      "---------------------------------\n",
      "FOLD 3\n",
      "-------------------------------\n",
      "Epoch 1\n",
      "Validation: Avg loss: 0.9669, Accuracy: 0.5434\n",
      "---------------------------------\n",
      "Epoch 2\n",
      "Validation: Avg loss: 0.9010, Accuracy: 0.6066\n",
      "---------------------------------\n",
      "Epoch 3\n",
      "Validation: Avg loss: 0.8583, Accuracy: 0.6429\n",
      "---------------------------------\n",
      "Epoch 4\n",
      "Validation: Avg loss: 0.8284, Accuracy: 0.6584\n",
      "---------------------------------\n",
      "Epoch 5\n",
      "Validation: Avg loss: 0.8065, Accuracy: 0.6718\n",
      "---------------------------------\n",
      "Epoch 6\n",
      "Validation: Avg loss: 0.7900, Accuracy: 0.6853\n",
      "---------------------------------\n",
      "Epoch 7\n",
      "Validation: Avg loss: 0.7765, Accuracy: 0.6886\n",
      "---------------------------------\n",
      "Epoch 8\n",
      "Validation: Avg loss: 0.7656, Accuracy: 0.6940\n",
      "---------------------------------\n",
      "Epoch 9\n",
      "Validation: Avg loss: 0.7572, Accuracy: 0.6974\n",
      "---------------------------------\n",
      "Epoch 10\n",
      "Validation: Avg loss: 0.7508, Accuracy: 0.7088\n",
      "---------------------------------\n",
      "FOLD 4\n",
      "-------------------------------\n",
      "Epoch 1\n",
      "Validation: Avg loss: 0.9068, Accuracy: 0.6427\n",
      "---------------------------------\n",
      "Epoch 2\n",
      "Validation: Avg loss: 0.8434, Accuracy: 0.7019\n",
      "---------------------------------\n",
      "Epoch 3\n",
      "Validation: Avg loss: 0.8140, Accuracy: 0.7180\n",
      "---------------------------------\n",
      "Epoch 4\n",
      "Validation: Avg loss: 0.7950, Accuracy: 0.7261\n",
      "---------------------------------\n",
      "Epoch 5\n",
      "Validation: Avg loss: 0.7818, Accuracy: 0.7275\n",
      "---------------------------------\n",
      "Epoch 6\n",
      "Validation: Avg loss: 0.7716, Accuracy: 0.7322\n",
      "---------------------------------\n",
      "Epoch 7\n",
      "Validation: Avg loss: 0.7628, Accuracy: 0.7335\n",
      "---------------------------------\n",
      "Epoch 8\n",
      "Validation: Avg loss: 0.7551, Accuracy: 0.7335\n",
      "---------------------------------\n",
      "Epoch 9\n",
      "Validation: Avg loss: 0.7483, Accuracy: 0.7342\n",
      "---------------------------------\n",
      "Epoch 10\n",
      "Validation: Avg loss: 0.7425, Accuracy: 0.7369\n",
      "---------------------------------\n"
     ]
    }
   ],
   "source": [
    "y_encoded = [0 if item == \"cLNTX_non-bind\" else 1 if item in ['cLNTX_++', 'aBGTX_-+'] else 2 if item in ['cLNTX_+-', 'aBGTX_+-'] else item for item in y]\n",
    "\n",
    "ML = SupervisedML(Data.X, y_encoded, cv_components = 5)\n",
    "model = ML.logistic_regression()\n",
    "scores = ML.do_scikits_cv(model)\n",
    "ML.do_nn_cv(num_epochs = 10)"
   ]
  },
  {
   "cell_type": "code",
   "execution_count": 17,
   "metadata": {},
   "outputs": [
    {
     "name": "stderr",
     "output_type": "stream",
     "text": [
      "Some weights of EsmModel were not initialized from the model checkpoint at facebook/esm2_t6_8M_UR50D and are newly initialized: ['esm.pooler.dense.bias', 'esm.pooler.dense.weight']\n",
      "You should probably TRAIN this model on a down-stream task to be able to use it for predictions and inference.\n",
      "c:\\Users\\nilsh\\my_projects\\SeqLP\\src\\seqlp\\visualize\\load_model.py:237: SettingWithCopyWarning: \n",
      "A value is trying to be set on a copy of a slice from a DataFrame.\n",
      "Try using .loc[row_indexer,col_indexer] = value instead\n",
      "\n",
      "See the caveats in the documentation: https://pandas.pydata.org/pandas-docs/stable/user_guide/indexing.html#returning-a-view-versus-a-copy\n",
      "  sequencing_report[['full_sequence', 'CDRPositions']] = sequencing_report.apply(ExtractData.calculate_cdr_positions, axis=1, result_type='expand')\n",
      "c:\\Users\\nilsh\\my_projects\\SeqLP\\src\\seqlp\\visualize\\load_model.py:237: SettingWithCopyWarning: \n",
      "A value is trying to be set on a copy of a slice from a DataFrame.\n",
      "Try using .loc[row_indexer,col_indexer] = value instead\n",
      "\n",
      "See the caveats in the documentation: https://pandas.pydata.org/pandas-docs/stable/user_guide/indexing.html#returning-a-view-versus-a-copy\n",
      "  sequencing_report[['full_sequence', 'CDRPositions']] = sequencing_report.apply(ExtractData.calculate_cdr_positions, axis=1, result_type='expand')\n"
     ]
    }
   ],
   "source": [
    "chosen_columns = [\"cLNTX_non-bind\", \"cLNTX_++\", \"aBGTX_-+\", \"cLNTX_+-\", \"aBGTX_+-\"]\n",
    "Data = DataPipeline(no_sequences = 1000000, model = esm_small, choose_labels= chosen_columns)\n",
    "y = Data.init_sequencing_report['Experiment'].tolist()\n",
    "y_encoded = [0 if item == \"cLNTX_non-bind\" else 1 if item in ['cLNTX_++', 'aBGTX_-+'] else 2 if item in ['cLNTX_+-', 'aBGTX_+-'] else item for item in y]\n",
    "\n",
    "ML = SupervisedML(Data.X, y_encoded, cv_components = 5)\n",
    "model = ML.logistic_regression()\n",
    "scores = ML.do_scikits_cv(model)\n",
    "ML.do_nn_cv(num_epochs = 5)"
   ]
  }
 ],
 "metadata": {
  "kernelspec": {
   "display_name": ".venv",
   "language": "python",
   "name": "python3"
  },
  "language_info": {
   "codemirror_mode": {
    "name": "ipython",
    "version": 3
   },
   "file_extension": ".py",
   "mimetype": "text/x-python",
   "name": "python",
   "nbconvert_exporter": "python",
   "pygments_lexer": "ipython3",
   "version": "3.11.3"
  }
 },
 "nbformat": 4,
 "nbformat_minor": 2
}
