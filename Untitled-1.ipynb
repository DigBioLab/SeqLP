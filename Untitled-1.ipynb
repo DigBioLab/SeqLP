{
 "cells": [
  {
   "cell_type": "code",
   "execution_count": null,
   "metadata": {},
   "outputs": [],
   "source": [
    "from src.seqlp.setup.data_prep import Prepare\n",
    "from src.seqlp.setup.tokenizer import TokenizeData"
   ]
  },
  {
   "cell_type": "code",
   "execution_count": null,
   "metadata": {},
   "outputs": [],
   "source": [
    "tokenize = TokenizeData()\n",
    "\n",
    "filename = tokenize.download_and_prepare(download_commands_script=\"/zhome/20/8/175218/SeqLP/testing_model_server/\",\n",
    "                                    limit = 100,\n",
    "                                    save_single_csvs = False,\n",
    "                                    user_dir = \"/zhome/20/8/175218/SeqLP/testing_model_server/test_launch\",\n",
    "                                    prep_data_type = \"uniform\")"
   ]
  },
  {
   "cell_type": "code",
   "execution_count": null,
   "metadata": {},
   "outputs": [],
   "source": [
    "concatenated_df = Prepare.read_gzipped_csv(r\"/zhome/20/8/175218/SeqLP/testing_model_server/test_launch/train_data/concatenated.csv.gz\")"
   ]
  },
  {
   "cell_type": "code",
   "execution_count": null,
   "metadata": {},
   "outputs": [],
   "source": [
    "concatenated_df[\"sequences\"].str.len().value_counts().sort_index().plot(kind=\"bar\")\n",
    "#concatenated_df[\"sequences\"].str.len().hist(bins=100)"
   ]
  },
  {
   "cell_type": "code",
   "execution_count": null,
   "metadata": {},
   "outputs": [],
   "source": [
    "print(len(concatenated_df[\"sequences\"].tolist()))"
   ]
  },
  {
   "cell_type": "code",
   "execution_count": null,
   "metadata": {},
   "outputs": [],
   "source": [
    "filename = tokenize.download_and_prepare(download_commands_script=\"/zhome/20/8/175218/SeqLP/testing_model_server/\",\n",
    "                                    limit = 10,\n",
    "                                    save_single_csvs = False,\n",
    "                                    user_dir = \"/zhome/20/8/175218/SeqLP/testing_model_server/test_launch\",\n",
    "                                    prep_data_type = \"fragment_directed\")"
   ]
  },
  {
   "cell_type": "code",
   "execution_count": null,
   "metadata": {},
   "outputs": [],
   "source": [
    "concatenated_df = Prepare.read_gzipped_csv(r\"/zhome/20/8/175218/SeqLP/testing_model_server/test_launch/train_data/concatenated.csv.gz\")"
   ]
  },
  {
   "cell_type": "code",
   "execution_count": null,
   "metadata": {},
   "outputs": [],
   "source": [
    "concatenated_df[\"sequences\"].str.len().value_counts().sort_index().plot(kind=\"bar\")\n"
   ]
  }
 ],
 "metadata": {
  "kernelspec": {
   "display_name": "Python 3",
   "language": "python",
   "name": "python3"
  },
  "language_info": {
   "codemirror_mode": {
    "name": "ipython",
    "version": 3
   },
   "file_extension": ".py",
   "mimetype": "text/x-python",
   "name": "python",
   "nbconvert_exporter": "python",
   "pygments_lexer": "ipython3",
   "version": "3.8.2"
  }
 },
 "nbformat": 4,
 "nbformat_minor": 2
}
